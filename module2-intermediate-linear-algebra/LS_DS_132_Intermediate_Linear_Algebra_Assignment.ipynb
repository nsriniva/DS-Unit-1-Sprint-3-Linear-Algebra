{
  "nbformat": 4,
  "nbformat_minor": 0,
  "metadata": {
    "colab": {
      "name": "LS_DS_132_Intermediate_Linear_Algebra_Assignment.ipynb",
      "provenance": [],
      "collapsed_sections": [],
      "include_colab_link": true
    },
    "kernelspec": {
      "name": "python3",
      "display_name": "Python 3"
    }
  },
  "cells": [
    {
      "cell_type": "markdown",
      "metadata": {
        "id": "view-in-github",
        "colab_type": "text"
      },
      "source": [
        "<a href=\"https://colab.research.google.com/github/nsriniva/DS-Unit-1-Sprint-3-Linear-Algebra/blob/master/module2-intermediate-linear-algebra/LS_DS_132_Intermediate_Linear_Algebra_Assignment.ipynb\" target=\"_parent\"><img src=\"https://colab.research.google.com/assets/colab-badge.svg\" alt=\"Open In Colab\"/></a>"
      ]
    },
    {
      "cell_type": "markdown",
      "metadata": {
        "id": "GSNiYn8lr6nN"
      },
      "source": [
        "# Statistics"
      ]
    },
    {
      "cell_type": "markdown",
      "metadata": {
        "id": "3d4izUhQvh2_"
      },
      "source": [
        "## 1.1 Sales for the past week was the following amounts: [3505, 2400, 3027, 2798, 3700, 3250, 2689]. Without using library functions, what is the mean, variance, and standard deviation of of sales from last week? (for extra bonus points, write your own function that can calculate these two values for any sized list)"
      ]
    },
    {
      "cell_type": "code",
      "metadata": {
        "id": "w1iZfYvBtEA1"
      },
      "source": [
        "import numpy as np\n",
        "\n",
        "def mvs_func(data, ddof=0):\n",
        "  num = len(data) - ddof\n",
        "  mean = data.mean()\n",
        "\n",
        "  var_list = (data - mean)**2\n",
        "  var = var_list.sum()/num\n",
        "\n",
        "  std = var**0.5\n",
        "\n",
        "  return mean,var,std \n",
        "\n"
      ],
      "execution_count": 304,
      "outputs": []
    },
    {
      "cell_type": "code",
      "metadata": {
        "id": "QspAD4KC64Q9",
        "outputId": "d76a776d-c6f4-4a59-acc3-be129152ec45",
        "colab": {
          "base_uri": "https://localhost:8080/",
          "height": 68
        }
      },
      "source": [
        "data = np.array([3505, 2400, 3027, 2798, 3700, 3250, 2689])\n",
        "m0,v0,s0 = mvs_func(data)\n",
        "print(m0, v0, s0,'\\n' )\n",
        "\n",
        "m1,v1,s1 = mvs_func(data, ddof=1)\n",
        "\n",
        "print(m1, v1, s1 )\n"
      ],
      "execution_count": 305,
      "outputs": [
        {
          "output_type": "stream",
          "text": [
            "3052.714285714286 183761.06122448976 428.67360686714756 \n",
            "\n",
            "3052.714285714286 214387.90476190473 463.0204150595357\n"
          ],
          "name": "stdout"
        }
      ]
    },
    {
      "cell_type": "markdown",
      "metadata": {
        "id": "oh63KaOctEp_"
      },
      "source": [
        "\n",
        "## 1.2 Find the covariance between last week's sales numbers and the number of customers that entered the store last week: [127, 80, 105, 92, 120, 115, 93] (you may use librray functions for calculating the covariance since we didn't specifically talk about its formula)"
      ]
    },
    {
      "cell_type": "code",
      "metadata": {
        "id": "G7ZB0krot564",
        "outputId": "c9a4b0e7-412c-42a1-95b8-6eb21a987604",
        "colab": {
          "base_uri": "https://localhost:8080/",
          "height": 170
        }
      },
      "source": [
        "\n",
        "def covar(a,b, ddof=0):\n",
        "\n",
        "  num = len(a) - ddof\n",
        "  amean = a.mean()\n",
        "  bmean = b.mean()\n",
        "\n",
        "  covar_list = (data - amean)*(datb- bmean)\n",
        "\n",
        "  covar = sum(covar_list)/num\n",
        "\n",
        "  return covar\n",
        "\n",
        "datb = np.array([127, 80, 105, 92, 120, 115, 93])\n",
        "\n",
        "print(covar(data, datb, ddof=0),'\\n')\n",
        "\n",
        "print(covar(data, datb, ddof=1),'\\n')\n",
        "\n",
        "# np.cov(a,b), where a and b are 1D arrays, returns a 2x2 covariance matrix C\n",
        "\n",
        "# where C[0][0] == covariance(a,a) = variance(a)\n",
        "# C[0][1] == C[1][0] == covariance(a,b)\n",
        "# C[1][1] == variance(b)\n",
        "\n",
        "# We can confirm this for a, since we've already computed the variance for a \n",
        "# Variance(a,0) ==  183761.06122448976\n",
        "# C0[0][0] == 183761.06122449\n",
        "# Covariance(a,b,0) == 6518.020408163265 \n",
        "# C0[0][1] == C0[1][0] == 6518.02040816\n",
        "\n",
        "# Variance(a,1) ==  214387.90476190473\n",
        "# C1[0][0] == 214387.9047619\n",
        "# Covariance(a,b,1) == 7604.357142857142 \n",
        "# C1[0][1] == C0[1][0] == 7604.35714286\n",
        "\n",
        "print(np.cov(data, datb, ddof=0),'\\n')\n",
        "\n",
        "print(np.cov(data, datb, ddof=1))\n"
      ],
      "execution_count": 306,
      "outputs": [
        {
          "output_type": "stream",
          "text": [
            "6518.020408163265 \n",
            "\n",
            "7604.357142857142 \n",
            "\n",
            "[[183761.06122449   6518.02040816]\n",
            " [  6518.02040816    249.3877551 ]] \n",
            "\n",
            "[[214387.9047619    7604.35714286]\n",
            " [  7604.35714286    290.95238095]]\n"
          ],
          "name": "stdout"
        }
      ]
    },
    {
      "cell_type": "markdown",
      "metadata": {
        "id": "J9SbUY9mt66I"
      },
      "source": [
        "## 1.3 Find the standard deviation of customers who entered the store last week. Then, use the standard deviations of both sales and customers to standardize the covariance to find the correlation coefficient that summarizes the relationship between sales and customers. (You may use library functions to check your work.)"
      ]
    },
    {
      "cell_type": "code",
      "metadata": {
        "id": "vFJms2YRrKhY",
        "outputId": "47dffd0c-edc7-4878-c909-1a3224b1424a",
        "colab": {
          "base_uri": "https://localhost:8080/",
          "height": 221
        }
      },
      "source": [
        "_,_,sd_cust = mvs_func(datb,ddof=1)\n",
        "_,_,sd_sale = mvs_func(data, ddof=1)\n",
        "\n",
        "cov_cust_sale = covar(data, datb, ddof=1)\n",
        "\n",
        "print(sd_cust,sd_sale, cov_cust_sale, '\\n')\n",
        "\n",
        "corr_coeff_1 = cov_cust_sale/(sd_cust*sd_sale)\n",
        "\n",
        "print(corr_coeff_1,'\\n\\n')\n",
        "_,_,sd_cust = mvs_func(datb)\n",
        "_,_,sd_sale = mvs_func(data)\n",
        "\n",
        "cov_cust_sale = covar(data, datb)\n",
        "\n",
        "print(sd_cust,sd_sale, cov_cust_sale, '\\n')\n",
        "\n",
        "corr_coeff_0 = cov_cust_sale/(sd_cust*sd_sale)\n",
        "\n",
        "print(corr_coeff_0,'\\n\\n')\n",
        "\n",
        "# Important to note that while standard deviations and\n",
        "# covariance values are affected by the ddof value, the\n",
        "# correlation coefficient is not.\n",
        "\n",
        "# As with the covariance matrix, the correlation coefficient\n",
        "# matrix has\n",
        "# r[0][0] == correlation coefficient of (a,a) == 1\n",
        "# r[1][1] == correlation coefficient of (b,b) == 1\n",
        "# r[0][1] == r[1][0] == correlation coefficient of (a,b)\n",
        "# Computed correlation coefficient == 0.9628339778148909\n",
        "# r[0][1] == r[0][1] == 0.96283398\n",
        "\n",
        "display(np.corrcoef(data, datb))\n",
        "\n",
        "\n",
        "\n"
      ],
      "execution_count": 307,
      "outputs": [
        {
          "output_type": "stream",
          "text": [
            "17.057326313123664 463.0204150595357 7604.357142857142 \n",
            "\n",
            "0.9628339778148909 \n",
            "\n",
            "\n",
            "15.792015549069118 428.67360686714756 6518.020408163265 \n",
            "\n",
            "0.9628339778148909 \n",
            "\n",
            "\n"
          ],
          "name": "stdout"
        },
        {
          "output_type": "display_data",
          "data": {
            "text/plain": [
              "array([[1.        , 0.96283398],\n",
              "       [0.96283398, 1.        ]])"
            ]
          },
          "metadata": {
            "tags": []
          }
        }
      ]
    },
    {
      "cell_type": "code",
      "metadata": {
        "id": "6nAtoMRnd_yx"
      },
      "source": [
        ""
      ],
      "execution_count": 307,
      "outputs": []
    },
    {
      "cell_type": "markdown",
      "metadata": {
        "id": "IbZVf7nmujPJ"
      },
      "source": [
        "## 1.4 Use pandas to import a cleaned version of the titanic dataset from the following link: [Titanic Dataset](https://raw.githubusercontent.com/Geoyi/Cleaning-Titanic-Data/master/titanic_clean.csv)\n",
        "\n",
        "## Calculate the variance-covariance matrix and correlation matrix for the titanic dataset's numeric columns. (you can encode some of the categorical variables and include them as a stretch goal if you finish early)"
      ]
    },
    {
      "cell_type": "code",
      "metadata": {
        "id": "0TWgUIiaCFzq",
        "outputId": "6d61c61c-76ae-4345-8e56-e29a0699fd4d",
        "colab": {
          "base_uri": "https://localhost:8080/",
          "height": 419
        }
      },
      "source": [
        "import pandas as pd\n",
        "\n",
        "titanic_url = 'https://raw.githubusercontent.com/Geoyi/Cleaning-Titanic-Data/master/titanic_clean.csv'\n",
        "df_titanic = pd.read_csv(titanic_url)\n",
        "\n",
        "df_titanic"
      ],
      "execution_count": 308,
      "outputs": [
        {
          "output_type": "execute_result",
          "data": {
            "text/html": [
              "<div>\n",
              "<style scoped>\n",
              "    .dataframe tbody tr th:only-of-type {\n",
              "        vertical-align: middle;\n",
              "    }\n",
              "\n",
              "    .dataframe tbody tr th {\n",
              "        vertical-align: top;\n",
              "    }\n",
              "\n",
              "    .dataframe thead th {\n",
              "        text-align: right;\n",
              "    }\n",
              "</style>\n",
              "<table border=\"1\" class=\"dataframe\">\n",
              "  <thead>\n",
              "    <tr style=\"text-align: right;\">\n",
              "      <th></th>\n",
              "      <th>Unnamed: 0</th>\n",
              "      <th>pclass</th>\n",
              "      <th>survived</th>\n",
              "      <th>name</th>\n",
              "      <th>sex</th>\n",
              "      <th>age</th>\n",
              "      <th>sibsp</th>\n",
              "      <th>parch</th>\n",
              "      <th>ticket</th>\n",
              "      <th>fare</th>\n",
              "      <th>cabin</th>\n",
              "      <th>embarked</th>\n",
              "      <th>boat</th>\n",
              "      <th>body</th>\n",
              "      <th>home.dest</th>\n",
              "      <th>has_cabin_number</th>\n",
              "    </tr>\n",
              "  </thead>\n",
              "  <tbody>\n",
              "    <tr>\n",
              "      <th>0</th>\n",
              "      <td>1</td>\n",
              "      <td>1.0</td>\n",
              "      <td>1.0</td>\n",
              "      <td>Allen, Miss. Elisabeth Walton</td>\n",
              "      <td>female</td>\n",
              "      <td>29.000000</td>\n",
              "      <td>0.0</td>\n",
              "      <td>0.0</td>\n",
              "      <td>24160</td>\n",
              "      <td>211.3375</td>\n",
              "      <td>B5</td>\n",
              "      <td>S</td>\n",
              "      <td>2</td>\n",
              "      <td>NaN</td>\n",
              "      <td>St Louis, MO</td>\n",
              "      <td>1</td>\n",
              "    </tr>\n",
              "    <tr>\n",
              "      <th>1</th>\n",
              "      <td>2</td>\n",
              "      <td>1.0</td>\n",
              "      <td>1.0</td>\n",
              "      <td>Allison, Master. Hudson Trevor</td>\n",
              "      <td>male</td>\n",
              "      <td>0.916700</td>\n",
              "      <td>1.0</td>\n",
              "      <td>2.0</td>\n",
              "      <td>113781</td>\n",
              "      <td>151.5500</td>\n",
              "      <td>C22 C26</td>\n",
              "      <td>S</td>\n",
              "      <td>11</td>\n",
              "      <td>NaN</td>\n",
              "      <td>Montreal, PQ / Chesterville, ON</td>\n",
              "      <td>1</td>\n",
              "    </tr>\n",
              "    <tr>\n",
              "      <th>2</th>\n",
              "      <td>3</td>\n",
              "      <td>1.0</td>\n",
              "      <td>0.0</td>\n",
              "      <td>Allison, Miss. Helen Loraine</td>\n",
              "      <td>female</td>\n",
              "      <td>2.000000</td>\n",
              "      <td>1.0</td>\n",
              "      <td>2.0</td>\n",
              "      <td>113781</td>\n",
              "      <td>151.5500</td>\n",
              "      <td>C22 C26</td>\n",
              "      <td>S</td>\n",
              "      <td>NaN</td>\n",
              "      <td>NaN</td>\n",
              "      <td>Montreal, PQ / Chesterville, ON</td>\n",
              "      <td>1</td>\n",
              "    </tr>\n",
              "    <tr>\n",
              "      <th>3</th>\n",
              "      <td>4</td>\n",
              "      <td>1.0</td>\n",
              "      <td>0.0</td>\n",
              "      <td>Allison, Mr. Hudson Joshua Creighton</td>\n",
              "      <td>male</td>\n",
              "      <td>30.000000</td>\n",
              "      <td>1.0</td>\n",
              "      <td>2.0</td>\n",
              "      <td>113781</td>\n",
              "      <td>151.5500</td>\n",
              "      <td>C22 C26</td>\n",
              "      <td>S</td>\n",
              "      <td>NaN</td>\n",
              "      <td>135.0</td>\n",
              "      <td>Montreal, PQ / Chesterville, ON</td>\n",
              "      <td>1</td>\n",
              "    </tr>\n",
              "    <tr>\n",
              "      <th>4</th>\n",
              "      <td>5</td>\n",
              "      <td>1.0</td>\n",
              "      <td>0.0</td>\n",
              "      <td>Allison, Mrs. Hudson J C (Bessie Waldo Daniels)</td>\n",
              "      <td>female</td>\n",
              "      <td>25.000000</td>\n",
              "      <td>1.0</td>\n",
              "      <td>2.0</td>\n",
              "      <td>113781</td>\n",
              "      <td>151.5500</td>\n",
              "      <td>C22 C26</td>\n",
              "      <td>S</td>\n",
              "      <td>NaN</td>\n",
              "      <td>NaN</td>\n",
              "      <td>Montreal, PQ / Chesterville, ON</td>\n",
              "      <td>1</td>\n",
              "    </tr>\n",
              "    <tr>\n",
              "      <th>...</th>\n",
              "      <td>...</td>\n",
              "      <td>...</td>\n",
              "      <td>...</td>\n",
              "      <td>...</td>\n",
              "      <td>...</td>\n",
              "      <td>...</td>\n",
              "      <td>...</td>\n",
              "      <td>...</td>\n",
              "      <td>...</td>\n",
              "      <td>...</td>\n",
              "      <td>...</td>\n",
              "      <td>...</td>\n",
              "      <td>...</td>\n",
              "      <td>...</td>\n",
              "      <td>...</td>\n",
              "      <td>...</td>\n",
              "    </tr>\n",
              "    <tr>\n",
              "      <th>1305</th>\n",
              "      <td>1306</td>\n",
              "      <td>3.0</td>\n",
              "      <td>0.0</td>\n",
              "      <td>Zabour, Miss. Thamine</td>\n",
              "      <td>female</td>\n",
              "      <td>29.881135</td>\n",
              "      <td>1.0</td>\n",
              "      <td>0.0</td>\n",
              "      <td>2665</td>\n",
              "      <td>14.4542</td>\n",
              "      <td>NaN</td>\n",
              "      <td>C</td>\n",
              "      <td>NaN</td>\n",
              "      <td>NaN</td>\n",
              "      <td>NaN</td>\n",
              "      <td>0</td>\n",
              "    </tr>\n",
              "    <tr>\n",
              "      <th>1306</th>\n",
              "      <td>1307</td>\n",
              "      <td>3.0</td>\n",
              "      <td>0.0</td>\n",
              "      <td>Zakarian, Mr. Mapriededer</td>\n",
              "      <td>male</td>\n",
              "      <td>26.500000</td>\n",
              "      <td>0.0</td>\n",
              "      <td>0.0</td>\n",
              "      <td>2656</td>\n",
              "      <td>7.2250</td>\n",
              "      <td>NaN</td>\n",
              "      <td>C</td>\n",
              "      <td>NaN</td>\n",
              "      <td>304.0</td>\n",
              "      <td>NaN</td>\n",
              "      <td>0</td>\n",
              "    </tr>\n",
              "    <tr>\n",
              "      <th>1307</th>\n",
              "      <td>1308</td>\n",
              "      <td>3.0</td>\n",
              "      <td>0.0</td>\n",
              "      <td>Zakarian, Mr. Ortin</td>\n",
              "      <td>male</td>\n",
              "      <td>27.000000</td>\n",
              "      <td>0.0</td>\n",
              "      <td>0.0</td>\n",
              "      <td>2670</td>\n",
              "      <td>7.2250</td>\n",
              "      <td>NaN</td>\n",
              "      <td>C</td>\n",
              "      <td>NaN</td>\n",
              "      <td>NaN</td>\n",
              "      <td>NaN</td>\n",
              "      <td>0</td>\n",
              "    </tr>\n",
              "    <tr>\n",
              "      <th>1308</th>\n",
              "      <td>1309</td>\n",
              "      <td>3.0</td>\n",
              "      <td>0.0</td>\n",
              "      <td>Zimmerman, Mr. Leo</td>\n",
              "      <td>male</td>\n",
              "      <td>29.000000</td>\n",
              "      <td>0.0</td>\n",
              "      <td>0.0</td>\n",
              "      <td>315082</td>\n",
              "      <td>7.8750</td>\n",
              "      <td>NaN</td>\n",
              "      <td>S</td>\n",
              "      <td>NaN</td>\n",
              "      <td>NaN</td>\n",
              "      <td>NaN</td>\n",
              "      <td>0</td>\n",
              "    </tr>\n",
              "    <tr>\n",
              "      <th>1309</th>\n",
              "      <td>1310</td>\n",
              "      <td>NaN</td>\n",
              "      <td>NaN</td>\n",
              "      <td>NaN</td>\n",
              "      <td>NaN</td>\n",
              "      <td>29.881135</td>\n",
              "      <td>NaN</td>\n",
              "      <td>NaN</td>\n",
              "      <td>NaN</td>\n",
              "      <td>NaN</td>\n",
              "      <td>NaN</td>\n",
              "      <td>S</td>\n",
              "      <td>NaN</td>\n",
              "      <td>NaN</td>\n",
              "      <td>NaN</td>\n",
              "      <td>0</td>\n",
              "    </tr>\n",
              "  </tbody>\n",
              "</table>\n",
              "<p>1310 rows × 16 columns</p>\n",
              "</div>"
            ],
            "text/plain": [
              "      Unnamed: 0  pclass  ...                        home.dest has_cabin_number\n",
              "0              1     1.0  ...                     St Louis, MO                1\n",
              "1              2     1.0  ...  Montreal, PQ / Chesterville, ON                1\n",
              "2              3     1.0  ...  Montreal, PQ / Chesterville, ON                1\n",
              "3              4     1.0  ...  Montreal, PQ / Chesterville, ON                1\n",
              "4              5     1.0  ...  Montreal, PQ / Chesterville, ON                1\n",
              "...          ...     ...  ...                              ...              ...\n",
              "1305        1306     3.0  ...                              NaN                0\n",
              "1306        1307     3.0  ...                              NaN                0\n",
              "1307        1308     3.0  ...                              NaN                0\n",
              "1308        1309     3.0  ...                              NaN                0\n",
              "1309        1310     NaN  ...                              NaN                0\n",
              "\n",
              "[1310 rows x 16 columns]"
            ]
          },
          "metadata": {
            "tags": []
          },
          "execution_count": 308
        }
      ]
    },
    {
      "cell_type": "code",
      "metadata": {
        "id": "zRMoRqR3nj04",
        "outputId": "b2641a35-8410-4b35-f96a-d15966b14fc9",
        "colab": {
          "base_uri": "https://localhost:8080/",
          "height": 867
        }
      },
      "source": [
        "display(df_titanic.isnull().sum())\n",
        "print('\\n')\n",
        "display(df_titanic.dtypes)\n",
        "print('\\n')\n",
        "\n",
        "num_cols = df_titanic.select_dtypes(include=np.number).columns.tolist()\n",
        "display(num_cols)\n",
        "print('\\n')\n",
        "\n",
        "# Exclude the first sequential index column and\n",
        "# the 'body' column since it is mostly NaNs \n",
        "num_cols = num_cols[1:]\n",
        "num_cols.remove('body')\n",
        "\n",
        "display(num_cols)"
      ],
      "execution_count": 309,
      "outputs": [
        {
          "output_type": "display_data",
          "data": {
            "text/plain": [
              "Unnamed: 0             0\n",
              "pclass                 1\n",
              "survived               1\n",
              "name                   1\n",
              "sex                    1\n",
              "age                    0\n",
              "sibsp                  1\n",
              "parch                  1\n",
              "ticket                 1\n",
              "fare                   2\n",
              "cabin               1015\n",
              "embarked               0\n",
              "boat                 824\n",
              "body                1189\n",
              "home.dest            565\n",
              "has_cabin_number       0\n",
              "dtype: int64"
            ]
          },
          "metadata": {
            "tags": []
          }
        },
        {
          "output_type": "stream",
          "text": [
            "\n",
            "\n"
          ],
          "name": "stdout"
        },
        {
          "output_type": "display_data",
          "data": {
            "text/plain": [
              "Unnamed: 0            int64\n",
              "pclass              float64\n",
              "survived            float64\n",
              "name                 object\n",
              "sex                  object\n",
              "age                 float64\n",
              "sibsp               float64\n",
              "parch               float64\n",
              "ticket               object\n",
              "fare                float64\n",
              "cabin                object\n",
              "embarked             object\n",
              "boat                 object\n",
              "body                float64\n",
              "home.dest            object\n",
              "has_cabin_number      int64\n",
              "dtype: object"
            ]
          },
          "metadata": {
            "tags": []
          }
        },
        {
          "output_type": "stream",
          "text": [
            "\n",
            "\n"
          ],
          "name": "stdout"
        },
        {
          "output_type": "display_data",
          "data": {
            "text/plain": [
              "['Unnamed: 0',\n",
              " 'pclass',\n",
              " 'survived',\n",
              " 'age',\n",
              " 'sibsp',\n",
              " 'parch',\n",
              " 'fare',\n",
              " 'body',\n",
              " 'has_cabin_number']"
            ]
          },
          "metadata": {
            "tags": []
          }
        },
        {
          "output_type": "stream",
          "text": [
            "\n",
            "\n"
          ],
          "name": "stdout"
        },
        {
          "output_type": "display_data",
          "data": {
            "text/plain": [
              "['pclass', 'survived', 'age', 'sibsp', 'parch', 'fare', 'has_cabin_number']"
            ]
          },
          "metadata": {
            "tags": []
          }
        }
      ]
    },
    {
      "cell_type": "code",
      "metadata": {
        "id": "iBxTe917rR6B",
        "outputId": "6d619d65-d00d-45cb-d426-65c9286e6062",
        "colab": {
          "base_uri": "https://localhost:8080/",
          "height": 419
        }
      },
      "source": [
        "df_titanic_num = df_titanic[num_cols]\n",
        "\n",
        "df_titanic_num"
      ],
      "execution_count": 310,
      "outputs": [
        {
          "output_type": "execute_result",
          "data": {
            "text/html": [
              "<div>\n",
              "<style scoped>\n",
              "    .dataframe tbody tr th:only-of-type {\n",
              "        vertical-align: middle;\n",
              "    }\n",
              "\n",
              "    .dataframe tbody tr th {\n",
              "        vertical-align: top;\n",
              "    }\n",
              "\n",
              "    .dataframe thead th {\n",
              "        text-align: right;\n",
              "    }\n",
              "</style>\n",
              "<table border=\"1\" class=\"dataframe\">\n",
              "  <thead>\n",
              "    <tr style=\"text-align: right;\">\n",
              "      <th></th>\n",
              "      <th>pclass</th>\n",
              "      <th>survived</th>\n",
              "      <th>age</th>\n",
              "      <th>sibsp</th>\n",
              "      <th>parch</th>\n",
              "      <th>fare</th>\n",
              "      <th>has_cabin_number</th>\n",
              "    </tr>\n",
              "  </thead>\n",
              "  <tbody>\n",
              "    <tr>\n",
              "      <th>0</th>\n",
              "      <td>1.0</td>\n",
              "      <td>1.0</td>\n",
              "      <td>29.000000</td>\n",
              "      <td>0.0</td>\n",
              "      <td>0.0</td>\n",
              "      <td>211.3375</td>\n",
              "      <td>1</td>\n",
              "    </tr>\n",
              "    <tr>\n",
              "      <th>1</th>\n",
              "      <td>1.0</td>\n",
              "      <td>1.0</td>\n",
              "      <td>0.916700</td>\n",
              "      <td>1.0</td>\n",
              "      <td>2.0</td>\n",
              "      <td>151.5500</td>\n",
              "      <td>1</td>\n",
              "    </tr>\n",
              "    <tr>\n",
              "      <th>2</th>\n",
              "      <td>1.0</td>\n",
              "      <td>0.0</td>\n",
              "      <td>2.000000</td>\n",
              "      <td>1.0</td>\n",
              "      <td>2.0</td>\n",
              "      <td>151.5500</td>\n",
              "      <td>1</td>\n",
              "    </tr>\n",
              "    <tr>\n",
              "      <th>3</th>\n",
              "      <td>1.0</td>\n",
              "      <td>0.0</td>\n",
              "      <td>30.000000</td>\n",
              "      <td>1.0</td>\n",
              "      <td>2.0</td>\n",
              "      <td>151.5500</td>\n",
              "      <td>1</td>\n",
              "    </tr>\n",
              "    <tr>\n",
              "      <th>4</th>\n",
              "      <td>1.0</td>\n",
              "      <td>0.0</td>\n",
              "      <td>25.000000</td>\n",
              "      <td>1.0</td>\n",
              "      <td>2.0</td>\n",
              "      <td>151.5500</td>\n",
              "      <td>1</td>\n",
              "    </tr>\n",
              "    <tr>\n",
              "      <th>...</th>\n",
              "      <td>...</td>\n",
              "      <td>...</td>\n",
              "      <td>...</td>\n",
              "      <td>...</td>\n",
              "      <td>...</td>\n",
              "      <td>...</td>\n",
              "      <td>...</td>\n",
              "    </tr>\n",
              "    <tr>\n",
              "      <th>1305</th>\n",
              "      <td>3.0</td>\n",
              "      <td>0.0</td>\n",
              "      <td>29.881135</td>\n",
              "      <td>1.0</td>\n",
              "      <td>0.0</td>\n",
              "      <td>14.4542</td>\n",
              "      <td>0</td>\n",
              "    </tr>\n",
              "    <tr>\n",
              "      <th>1306</th>\n",
              "      <td>3.0</td>\n",
              "      <td>0.0</td>\n",
              "      <td>26.500000</td>\n",
              "      <td>0.0</td>\n",
              "      <td>0.0</td>\n",
              "      <td>7.2250</td>\n",
              "      <td>0</td>\n",
              "    </tr>\n",
              "    <tr>\n",
              "      <th>1307</th>\n",
              "      <td>3.0</td>\n",
              "      <td>0.0</td>\n",
              "      <td>27.000000</td>\n",
              "      <td>0.0</td>\n",
              "      <td>0.0</td>\n",
              "      <td>7.2250</td>\n",
              "      <td>0</td>\n",
              "    </tr>\n",
              "    <tr>\n",
              "      <th>1308</th>\n",
              "      <td>3.0</td>\n",
              "      <td>0.0</td>\n",
              "      <td>29.000000</td>\n",
              "      <td>0.0</td>\n",
              "      <td>0.0</td>\n",
              "      <td>7.8750</td>\n",
              "      <td>0</td>\n",
              "    </tr>\n",
              "    <tr>\n",
              "      <th>1309</th>\n",
              "      <td>NaN</td>\n",
              "      <td>NaN</td>\n",
              "      <td>29.881135</td>\n",
              "      <td>NaN</td>\n",
              "      <td>NaN</td>\n",
              "      <td>NaN</td>\n",
              "      <td>0</td>\n",
              "    </tr>\n",
              "  </tbody>\n",
              "</table>\n",
              "<p>1310 rows × 7 columns</p>\n",
              "</div>"
            ],
            "text/plain": [
              "      pclass  survived        age  sibsp  parch      fare  has_cabin_number\n",
              "0        1.0       1.0  29.000000    0.0    0.0  211.3375                 1\n",
              "1        1.0       1.0   0.916700    1.0    2.0  151.5500                 1\n",
              "2        1.0       0.0   2.000000    1.0    2.0  151.5500                 1\n",
              "3        1.0       0.0  30.000000    1.0    2.0  151.5500                 1\n",
              "4        1.0       0.0  25.000000    1.0    2.0  151.5500                 1\n",
              "...      ...       ...        ...    ...    ...       ...               ...\n",
              "1305     3.0       0.0  29.881135    1.0    0.0   14.4542                 0\n",
              "1306     3.0       0.0  26.500000    0.0    0.0    7.2250                 0\n",
              "1307     3.0       0.0  27.000000    0.0    0.0    7.2250                 0\n",
              "1308     3.0       0.0  29.000000    0.0    0.0    7.8750                 0\n",
              "1309     NaN       NaN  29.881135    NaN    NaN       NaN                 0\n",
              "\n",
              "[1310 rows x 7 columns]"
            ]
          },
          "metadata": {
            "tags": []
          },
          "execution_count": 310
        }
      ]
    },
    {
      "cell_type": "code",
      "metadata": {
        "id": "blmA1yqepM0W",
        "outputId": "a7c2da66-64bf-4928-dfd9-61bcad1ec4fb",
        "colab": {
          "base_uri": "https://localhost:8080/",
          "height": 266
        }
      },
      "source": [
        "# Compute the variance-covariance matrix\n",
        "df_titanic_num.cov()"
      ],
      "execution_count": 311,
      "outputs": [
        {
          "output_type": "execute_result",
          "data": {
            "text/html": [
              "<div>\n",
              "<style scoped>\n",
              "    .dataframe tbody tr th:only-of-type {\n",
              "        vertical-align: middle;\n",
              "    }\n",
              "\n",
              "    .dataframe tbody tr th {\n",
              "        vertical-align: top;\n",
              "    }\n",
              "\n",
              "    .dataframe thead th {\n",
              "        text-align: right;\n",
              "    }\n",
              "</style>\n",
              "<table border=\"1\" class=\"dataframe\">\n",
              "  <thead>\n",
              "    <tr style=\"text-align: right;\">\n",
              "      <th></th>\n",
              "      <th>pclass</th>\n",
              "      <th>survived</th>\n",
              "      <th>age</th>\n",
              "      <th>sibsp</th>\n",
              "      <th>parch</th>\n",
              "      <th>fare</th>\n",
              "      <th>has_cabin_number</th>\n",
              "    </tr>\n",
              "  </thead>\n",
              "  <tbody>\n",
              "    <tr>\n",
              "      <th>pclass</th>\n",
              "      <td>0.701969</td>\n",
              "      <td>-0.127248</td>\n",
              "      <td>-3.954605</td>\n",
              "      <td>0.053090</td>\n",
              "      <td>0.013287</td>\n",
              "      <td>-24.227788</td>\n",
              "      <td>-0.249992</td>\n",
              "    </tr>\n",
              "    <tr>\n",
              "      <th>survived</th>\n",
              "      <td>-0.127248</td>\n",
              "      <td>0.236250</td>\n",
              "      <td>-0.314343</td>\n",
              "      <td>-0.014088</td>\n",
              "      <td>0.034776</td>\n",
              "      <td>6.146023</td>\n",
              "      <td>0.061406</td>\n",
              "    </tr>\n",
              "    <tr>\n",
              "      <th>age</th>\n",
              "      <td>-3.954605</td>\n",
              "      <td>-0.314343</td>\n",
              "      <td>165.850021</td>\n",
              "      <td>-2.559806</td>\n",
              "      <td>-1.459378</td>\n",
              "      <td>114.416613</td>\n",
              "      <td>1.463138</td>\n",
              "    </tr>\n",
              "    <tr>\n",
              "      <th>sibsp</th>\n",
              "      <td>0.053090</td>\n",
              "      <td>-0.014088</td>\n",
              "      <td>-2.559806</td>\n",
              "      <td>1.085052</td>\n",
              "      <td>0.336833</td>\n",
              "      <td>8.641768</td>\n",
              "      <td>-0.003946</td>\n",
              "    </tr>\n",
              "    <tr>\n",
              "      <th>parch</th>\n",
              "      <td>0.013287</td>\n",
              "      <td>0.034776</td>\n",
              "      <td>-1.459378</td>\n",
              "      <td>0.336833</td>\n",
              "      <td>0.749195</td>\n",
              "      <td>9.928031</td>\n",
              "      <td>0.013316</td>\n",
              "    </tr>\n",
              "    <tr>\n",
              "      <th>fare</th>\n",
              "      <td>-24.227788</td>\n",
              "      <td>6.146023</td>\n",
              "      <td>114.416613</td>\n",
              "      <td>8.641768</td>\n",
              "      <td>9.928031</td>\n",
              "      <td>2678.959738</td>\n",
              "      <td>10.976961</td>\n",
              "    </tr>\n",
              "    <tr>\n",
              "      <th>has_cabin_number</th>\n",
              "      <td>-0.249992</td>\n",
              "      <td>0.061406</td>\n",
              "      <td>1.463138</td>\n",
              "      <td>-0.003946</td>\n",
              "      <td>0.013316</td>\n",
              "      <td>10.976961</td>\n",
              "      <td>0.174613</td>\n",
              "    </tr>\n",
              "  </tbody>\n",
              "</table>\n",
              "</div>"
            ],
            "text/plain": [
              "                     pclass  survived  ...         fare  has_cabin_number\n",
              "pclass             0.701969 -0.127248  ...   -24.227788         -0.249992\n",
              "survived          -0.127248  0.236250  ...     6.146023          0.061406\n",
              "age               -3.954605 -0.314343  ...   114.416613          1.463138\n",
              "sibsp              0.053090 -0.014088  ...     8.641768         -0.003946\n",
              "parch              0.013287  0.034776  ...     9.928031          0.013316\n",
              "fare             -24.227788  6.146023  ...  2678.959738         10.976961\n",
              "has_cabin_number  -0.249992  0.061406  ...    10.976961          0.174613\n",
              "\n",
              "[7 rows x 7 columns]"
            ]
          },
          "metadata": {
            "tags": []
          },
          "execution_count": 311
        }
      ]
    },
    {
      "cell_type": "code",
      "metadata": {
        "id": "rNtRnwP_sVvT",
        "outputId": "063ea5ff-73e2-4803-de5a-f10c6dbfd9c0",
        "colab": {
          "base_uri": "https://localhost:8080/",
          "height": 266
        }
      },
      "source": [
        "# Compute the correlation coefficient matrix\n",
        "df_titanic_num.corr()"
      ],
      "execution_count": 312,
      "outputs": [
        {
          "output_type": "execute_result",
          "data": {
            "text/html": [
              "<div>\n",
              "<style scoped>\n",
              "    .dataframe tbody tr th:only-of-type {\n",
              "        vertical-align: middle;\n",
              "    }\n",
              "\n",
              "    .dataframe tbody tr th {\n",
              "        vertical-align: top;\n",
              "    }\n",
              "\n",
              "    .dataframe thead th {\n",
              "        text-align: right;\n",
              "    }\n",
              "</style>\n",
              "<table border=\"1\" class=\"dataframe\">\n",
              "  <thead>\n",
              "    <tr style=\"text-align: right;\">\n",
              "      <th></th>\n",
              "      <th>pclass</th>\n",
              "      <th>survived</th>\n",
              "      <th>age</th>\n",
              "      <th>sibsp</th>\n",
              "      <th>parch</th>\n",
              "      <th>fare</th>\n",
              "      <th>has_cabin_number</th>\n",
              "    </tr>\n",
              "  </thead>\n",
              "  <tbody>\n",
              "    <tr>\n",
              "      <th>pclass</th>\n",
              "      <td>1.000000</td>\n",
              "      <td>-0.312469</td>\n",
              "      <td>-0.366370</td>\n",
              "      <td>0.060832</td>\n",
              "      <td>0.018322</td>\n",
              "      <td>-0.558629</td>\n",
              "      <td>-0.713857</td>\n",
              "    </tr>\n",
              "    <tr>\n",
              "      <th>survived</th>\n",
              "      <td>-0.312469</td>\n",
              "      <td>1.000000</td>\n",
              "      <td>-0.050199</td>\n",
              "      <td>-0.027825</td>\n",
              "      <td>0.082660</td>\n",
              "      <td>0.244265</td>\n",
              "      <td>0.302250</td>\n",
              "    </tr>\n",
              "    <tr>\n",
              "      <th>age</th>\n",
              "      <td>-0.366370</td>\n",
              "      <td>-0.050199</td>\n",
              "      <td>1.000000</td>\n",
              "      <td>-0.190747</td>\n",
              "      <td>-0.130872</td>\n",
              "      <td>0.171892</td>\n",
              "      <td>0.271887</td>\n",
              "    </tr>\n",
              "    <tr>\n",
              "      <th>sibsp</th>\n",
              "      <td>0.060832</td>\n",
              "      <td>-0.027825</td>\n",
              "      <td>-0.190747</td>\n",
              "      <td>1.000000</td>\n",
              "      <td>0.373587</td>\n",
              "      <td>0.160238</td>\n",
              "      <td>-0.009064</td>\n",
              "    </tr>\n",
              "    <tr>\n",
              "      <th>parch</th>\n",
              "      <td>0.018322</td>\n",
              "      <td>0.082660</td>\n",
              "      <td>-0.130872</td>\n",
              "      <td>0.373587</td>\n",
              "      <td>1.000000</td>\n",
              "      <td>0.221539</td>\n",
              "      <td>0.036806</td>\n",
              "    </tr>\n",
              "    <tr>\n",
              "      <th>fare</th>\n",
              "      <td>-0.558629</td>\n",
              "      <td>0.244265</td>\n",
              "      <td>0.171892</td>\n",
              "      <td>0.160238</td>\n",
              "      <td>0.221539</td>\n",
              "      <td>1.000000</td>\n",
              "      <td>0.507253</td>\n",
              "    </tr>\n",
              "    <tr>\n",
              "      <th>has_cabin_number</th>\n",
              "      <td>-0.713857</td>\n",
              "      <td>0.302250</td>\n",
              "      <td>0.271887</td>\n",
              "      <td>-0.009064</td>\n",
              "      <td>0.036806</td>\n",
              "      <td>0.507253</td>\n",
              "      <td>1.000000</td>\n",
              "    </tr>\n",
              "  </tbody>\n",
              "</table>\n",
              "</div>"
            ],
            "text/plain": [
              "                    pclass  survived  ...      fare  has_cabin_number\n",
              "pclass            1.000000 -0.312469  ... -0.558629         -0.713857\n",
              "survived         -0.312469  1.000000  ...  0.244265          0.302250\n",
              "age              -0.366370 -0.050199  ...  0.171892          0.271887\n",
              "sibsp             0.060832 -0.027825  ...  0.160238         -0.009064\n",
              "parch             0.018322  0.082660  ...  0.221539          0.036806\n",
              "fare             -0.558629  0.244265  ...  1.000000          0.507253\n",
              "has_cabin_number -0.713857  0.302250  ...  0.507253          1.000000\n",
              "\n",
              "[7 rows x 7 columns]"
            ]
          },
          "metadata": {
            "tags": []
          },
          "execution_count": 312
        }
      ]
    },
    {
      "cell_type": "markdown",
      "metadata": {
        "id": "7K0Xfh8MvYkl"
      },
      "source": [
        "# Orthogonality"
      ]
    },
    {
      "cell_type": "markdown",
      "metadata": {
        "id": "Pe3eOZ2fvdZ-"
      },
      "source": [
        "## 2.1 Plot two vectors that are orthogonal to each other. What is a synonym for orthogonal?"
      ]
    },
    {
      "cell_type": "code",
      "metadata": {
        "id": "YLSBk7hJvvCx",
        "outputId": "64f5d9ab-3a58-457b-962f-31b8a08309b7",
        "colab": {
          "base_uri": "https://localhost:8080/",
          "height": 269
        }
      },
      "source": [
        "# A synonym for orthogonal would be perpendicular.\n",
        "\n",
        "import matplotlib.pyplot as plt\n",
        "\n",
        "\n",
        "def plot_2dvectors(vects2d, colors, axes, orig=None):\n",
        "  if orig is None:\n",
        "    orig = [0,0]\n",
        "\n",
        "  origin2d = np.array(orig)\n",
        "\n",
        "  vects2d = [[*origin2d, *vect2d] for vect2d in vects2d]\n",
        "  X, Y, U, V= zip(*vects2d)\n",
        "  axes.quiver(X, Y, U, V, scale_units='xy', scale=1, angles='xy', color=colors)\n",
        "\n",
        "\n",
        "veca = np.array([1,0])\n",
        "\n",
        "vecb = np.array([0,1])\n",
        "\n",
        "fig, axes = plt.subplots()\n",
        "\n",
        "axes.set_xlim(-1, 2)\n",
        "axes.set_ylim(-1,2)\n",
        "\n",
        "plot_2dvectors([veca,vecb], ['blue', 'green'], axes)\n"
      ],
      "execution_count": 313,
      "outputs": [
        {
          "output_type": "display_data",
          "data": {
            "image/png": "[encoded data removed]",
            "text/plain": [
              "<Figure size 432x288 with 1 Axes>"
            ]
          },
          "metadata": {
            "tags": [],
            "needs_background": "light"
          }
        }
      ]
    },
    {
      "cell_type": "code",
      "metadata": {
        "id": "svcYYRIiNaow"
      },
      "source": [
        ""
      ],
      "execution_count": 313,
      "outputs": []
    },
    {
      "cell_type": "code",
      "metadata": {
        "id": "1OedqJ60DtL8"
      },
      "source": [
        ""
      ],
      "execution_count": 313,
      "outputs": []
    },
    {
      "cell_type": "markdown",
      "metadata": {
        "id": "7AS4V1Nhvvxz"
      },
      "source": [
        "## 2.2 Are the following vectors orthogonal? Why or why not?\n",
        "\n",
        "\\begin{align}\n",
        "a = \\begin{bmatrix} -5 \\\\ 3 \\\\ 7 \\end{bmatrix}\n",
        "\\qquad\n",
        "b = \\begin{bmatrix} 6 \\\\ -8 \\\\ 2 \\end{bmatrix}\n",
        "\\end{align}"
      ]
    },
    {
      "cell_type": "code",
      "metadata": {
        "id": "F_-y54YSz47k",
        "outputId": "b1415e9c-e156-4cd1-f5b1-10207c3e41a3",
        "colab": {
          "base_uri": "https://localhost:8080/",
          "height": 34
        }
      },
      "source": [
        "veca = np.array([-5, 3, 7])\n",
        "\n",
        "vecb = np.array([6, -8, 2])\n",
        "\n",
        "veca_dot_vecb = np.dot(veca, vecb)\n",
        "\n",
        "print(f'{veca} and {vecb} have a dot product of {veca_dot_vecb} and are therefore {[\"not\",\"\"][int(veca_dot_vecb == 0)]} orthogonal')\n"
      ],
      "execution_count": 314,
      "outputs": [
        {
          "output_type": "stream",
          "text": [
            "[-5  3  7] and [ 6 -8  2] have a dot product of -40 and are therefore not orthogonal\n"
          ],
          "name": "stdout"
        }
      ]
    },
    {
      "cell_type": "markdown",
      "metadata": {
        "id": "MiNjyqiEz5SG"
      },
      "source": [
        "## 2.3 Compute the following values: What do these quantities have in common?\n",
        "\n",
        "## What is $||c||^2$? \n",
        "\n",
        "## What is $c \\cdot c$? \n",
        "\n",
        "## What is $c^{T}c$?\n",
        "\n",
        "\\begin{align}\n",
        "c = \\begin{bmatrix} 2 & -15 & 6 & 20 \\end{bmatrix}\n",
        "\\end{align}"
      ]
    },
    {
      "cell_type": "code",
      "metadata": {
        "id": "IlV_uaYK1EQB",
        "outputId": "1350ce69-abca-43cb-eaeb-f2c430b8c973",
        "colab": {
          "base_uri": "https://localhost:8080/",
          "height": 68
        }
      },
      "source": [
        "vecc = np.array([2, -15, 6, 20])\n",
        "\n",
        "norm_vecc_squared = np.linalg.norm(vecc)**2\n",
        "\n",
        "print(norm_vecc_squared)\n",
        "\n",
        "vecc_dot_vecc = np.dot(vecc, vecc)\n",
        "\n",
        "print(vecc_dot_vecc)\n",
        "\n",
        "vecc_trans_vecc = np.matmul(vecc.T, vecc)\n",
        "\n",
        "print(vecc_trans_vecc)"
      ],
      "execution_count": 315,
      "outputs": [
        {
          "output_type": "stream",
          "text": [
            "665.0\n",
            "665\n",
            "665\n"
          ],
          "name": "stdout"
        }
      ]
    },
    {
      "cell_type": "markdown",
      "metadata": {
        "id": "MK_TpWqk1Evk"
      },
      "source": [
        "# Unit Vectors"
      ]
    },
    {
      "cell_type": "markdown",
      "metadata": {
        "id": "Kpit6WWO1b8l"
      },
      "source": [
        "## 3.1 Using Latex, write the following vectors as a linear combination of scalars and unit vectors:\n",
        "\n",
        "\\begin{align}\n",
        "d = \\begin{bmatrix} 7 \\\\ 12 \\end{bmatrix}\n",
        "\\qquad\n",
        "e = \\begin{bmatrix} 2 \\\\ 11 \\\\ -8  \\end{bmatrix}\n",
        "\\end{align}"
      ]
    },
    {
      "cell_type": "markdown",
      "metadata": {
        "id": "oBCj1sDW2ouC"
      },
      "source": [
        "We have \n",
        "\\begin{align}\n",
        "\\vec{d} = \\begin{bmatrix} 2 \\\\ 3 \\end{bmatrix}\n",
        "\\qquad\n",
        "\\vec{e} = \\begin{bmatrix} 2 \\\\ 11 \\\\ -8 \\end{bmatrix}\n",
        "\\end{align}\n",
        "\n",
        "The vector $\\vec{d}$ can be written as\n",
        "\n",
        "$\\vec{d} = 2\\hat{i} + 3\\hat{j}$, where $\\hat{i} = \\begin{bmatrix} 1 \\\\ 0 \\end{bmatrix}$, $\\hat{j} = \\begin{bmatrix} 0 \\\\ 1 \\end{bmatrix}$\n",
        "\n",
        "The vector $\\vec{e}$ can be written as\n",
        "\n",
        "$\\vec{e} = 2\\hat{i} + 11\\hat{j} - 8\\hat{k}$, where $\\hat{i} = \\begin{bmatrix} 1 \\\\ 0 \\\\0 \\end{bmatrix}$, $\\hat{j} = \\begin{bmatrix} 0 \\\\ 1 \\\\ 0 \\end{bmatrix}$ and $\\hat{k} = \\begin{bmatrix} 0 \\\\ 0 \\\\ 1 \\end{bmatrix}$\n"
      ]
    },
    {
      "cell_type": "markdown",
      "metadata": {
        "id": "dAdUQuep1_yJ"
      },
      "source": [
        "## 3.2 Turn vector $f$ into a unit vector:\n",
        "\n",
        "\\begin{align}\n",
        "f = \\begin{bmatrix} 4 & 12 & 11 & 9 & 2 \\end{bmatrix}\n",
        "\\end{align}"
      ]
    },
    {
      "cell_type": "code",
      "metadata": {
        "id": "I3W8ZiHR1_Fa",
        "outputId": "c3cea820-2672-4889-c5fe-7261aaf73904",
        "colab": {
          "base_uri": "https://localhost:8080/",
          "height": 34
        }
      },
      "source": [
        "vecf = np.array([4,2,11,9,2])\n",
        "\n",
        "vecf_norm = np.linalg.norm(vecf)\n",
        "\n",
        "vecf_unit = vecf/vecf_norm\n",
        "\n",
        "# Verify vecf_unit is a unit vector\n",
        "# by computing norm\n",
        "print(vecf_unit, np.linalg.norm(vecf_unit))"
      ],
      "execution_count": 316,
      "outputs": [
        {
          "output_type": "stream",
          "text": [
            "[0.26607604 0.13303802 0.73170912 0.59867109 0.13303802] 1.0\n"
          ],
          "name": "stdout"
        }
      ]
    },
    {
      "cell_type": "markdown",
      "metadata": {
        "id": "o39UyP-I5lpP"
      },
      "source": [
        "# Linear Independence / Dependence "
      ]
    },
    {
      "cell_type": "markdown",
      "metadata": {
        "id": "ajfBqYe45sT5"
      },
      "source": [
        "## 4.1 Plot two vectors that are linearly dependent and two vectors that are linearly independent (bonus points if done in $\\mathbb{R}^3$)."
      ]
    },
    {
      "cell_type": "code",
      "metadata": {
        "id": "MWvvidDGRT5z",
        "outputId": "b47a9bc1-4bb9-45c2-e698-cd9fc5806620",
        "colab": {
          "base_uri": "https://localhost:8080/",
          "height": 269
        }
      },
      "source": [
        "veca = np.array([2, 3])\n",
        "\n",
        "veca_ld = 2*veca\n",
        "\n",
        "vecb = np.array([2, 6])\n",
        "vecb_li = np.array([3, 7])\n",
        "\n",
        "fig,axes = plt.subplots()\n",
        "axes.set_xlim(-1, 6)\n",
        "axes.set_ylim(-1,8)\n",
        "\n",
        "# The linearly dependent vectors are veca(blue) and veca_ld(green)\n",
        "# The linearly independent vectors are vecb(red) and vecb_li(brown)\n",
        "\n",
        "plot_2dvectors([veca,veca_ld, vecb, vecb_li ], ['blue', 'green', 'red', 'brown'], axes)\n"
      ],
      "execution_count": 317,
      "outputs": [
        {
          "output_type": "display_data",
          "data": {
            "image/png": "[encoded data removed]",
            "text/plain": [
              "<Figure size 432x288 with 1 Axes>"
            ]
          },
          "metadata": {
            "tags": [],
            "needs_background": "light"
          }
        }
      ]
    },
    {
      "cell_type": "markdown",
      "metadata": {
        "id": "TrJ0MT_n3SvO"
      },
      "source": [
        "# Span"
      ]
    },
    {
      "cell_type": "markdown",
      "metadata": {
        "id": "86iXLzwM2z8l"
      },
      "source": [
        "## 5.1 What is the span of the following vectors?\n",
        "\n",
        "\\begin{align}\n",
        "g = \\begin{bmatrix} 1 & 2 \\end{bmatrix}\n",
        "\\qquad\n",
        "h = \\begin{bmatrix} 4 & 8 \\end{bmatrix}\n",
        "\\end{align}"
      ]
    },
    {
      "cell_type": "code",
      "metadata": {
        "id": "G2LK2RWL39Q4",
        "outputId": "6c2763dc-951e-4ff3-fd5a-c36bffaf7f16",
        "colab": {
          "base_uri": "https://localhost:8080/",
          "height": 34
        }
      },
      "source": [
        "matA = np.array([[1,2],[4,8]])\n",
        "\n",
        "print(np.linalg.matrix_rank(matA))"
      ],
      "execution_count": 318,
      "outputs": [
        {
          "output_type": "stream",
          "text": [
            "1\n"
          ],
          "name": "stdout"
        }
      ]
    },
    {
      "cell_type": "markdown",
      "metadata": {
        "id": "I2LF_3nVoZpZ"
      },
      "source": [
        "Since the matrix rank is 1, g and h are collinear. Therefore, the span of the vectors is the line y=2x.  \n"
      ]
    },
    {
      "cell_type": "markdown",
      "metadata": {
        "id": "l1deylUj4IHH"
      },
      "source": [
        "## 5.2 What is the span of $\\{l, m, n\\}$?\n",
        "\n",
        "\\begin{align}\n",
        "l = \\begin{bmatrix} 1 & 2 & 3 \\end{bmatrix}\n",
        "\\qquad\n",
        "m = \\begin{bmatrix} -1 & 0 & 7 \\end{bmatrix}\n",
        "\\qquad\n",
        "n = \\begin{bmatrix} 4 & 8  & 2\\end{bmatrix}\n",
        "\\end{align}"
      ]
    },
    {
      "cell_type": "code",
      "metadata": {
        "id": "p1i_ueD25ZcP",
        "outputId": "98142b32-2975-4ae1-efcf-b607ad42ab69",
        "colab": {
          "base_uri": "https://localhost:8080/",
          "height": 34
        }
      },
      "source": [
        "matA = np.array([[1,2,3],[-1,0,7],[4, 8,2]])\n",
        "\n",
        "# The rank is 3\n",
        "print(np.linalg.matrix_rank(matA))\n",
        "\n"
      ],
      "execution_count": 319,
      "outputs": [
        {
          "output_type": "stream",
          "text": [
            "3\n"
          ],
          "name": "stdout"
        }
      ]
    },
    {
      "cell_type": "markdown",
      "metadata": {
        "id": "n7VFwYBBm7Ll"
      },
      "source": [
        "Since the matrix rank is 3, the vectors l,m and n are linearly independent. \n",
        "\n",
        "Therefore, their span is the set of all linear combinations of l,m and n i.e.$\\mathbb{R}^{3}$ "
      ]
    },
    {
      "cell_type": "markdown",
      "metadata": {
        "id": "IBqe7X1732kX"
      },
      "source": [
        "# Basis"
      ]
    },
    {
      "cell_type": "markdown",
      "metadata": {
        "id": "YeUZVHRM6PpT"
      },
      "source": [
        "## 6.1 Graph two vectors that form a basis for $\\mathbb{R}^2$\n",
        "\n"
      ]
    },
    {
      "cell_type": "code",
      "metadata": {
        "id": "utvF3Pkt8NP6",
        "outputId": "e0691e57-d819-42e6-bd17-9265dd5daad0",
        "colab": {
          "base_uri": "https://localhost:8080/",
          "height": 269
        }
      },
      "source": [
        "veci = np.array([1, 0])\n",
        "\n",
        "vecj = np.array([0, 1])\n",
        "\n",
        "fig,axes = plt.subplots()\n",
        "axes.set_xlim(-1, 1)\n",
        "axes.set_ylim(-1,1)\n",
        "\n",
        "plot_2dvectors([veci, vecj ], ['blue', 'green'], axes)"
      ],
      "execution_count": 320,
      "outputs": [
        {
          "output_type": "display_data",
          "data": {
            "image/png": "[encoded data removed]",
            "text/plain": [
              "<Figure size 432x288 with 1 Axes>"
            ]
          },
          "metadata": {
            "tags": [],
            "needs_background": "light"
          }
        }
      ]
    },
    {
      "cell_type": "markdown",
      "metadata": {
        "id": "20yPFBDUxxnS"
      },
      "source": [
        "## 6.2 What does it mean to form a basis?"
      ]
    },
    {
      "cell_type": "markdown",
      "metadata": {
        "id": "3w4tEayT8M0o"
      },
      "source": [
        "A basis is a set of vectors such that every vector in the space can be expressed as a linear combination of the vectors in the basis. "
      ]
    },
    {
      "cell_type": "markdown",
      "metadata": {
        "id": "EHmUxbcY6vD3"
      },
      "source": [
        "# Rank"
      ]
    },
    {
      "cell_type": "markdown",
      "metadata": {
        "id": "IpJwt9kw6v8U"
      },
      "source": [
        "## 7.1 What is the Rank of P?\n",
        "\n",
        "\\begin{align}\n",
        "P = \\begin{bmatrix} \n",
        "1 & 2 & 3 \\\\\n",
        " -1 & 0 & 7 \\\\\n",
        "4 & 8  & 2\n",
        "\\end{bmatrix}\n",
        "\\end{align}"
      ]
    },
    {
      "cell_type": "code",
      "metadata": {
        "id": "An55YUcraYKX",
        "outputId": "15384b63-8474-40c6-f7d7-99d2ef4d1dcb",
        "colab": {
          "base_uri": "https://localhost:8080/",
          "height": 34
        }
      },
      "source": [
        "P = np.array([[1,2,3],[-1, 0,7],[4, 8, 2]])\n",
        "\n",
        "np.linalg.matrix_rank(P)"
      ],
      "execution_count": 321,
      "outputs": [
        {
          "output_type": "execute_result",
          "data": {
            "text/plain": [
              "3"
            ]
          },
          "metadata": {
            "tags": []
          },
          "execution_count": 321
        }
      ]
    },
    {
      "cell_type": "markdown",
      "metadata": {
        "id": "jGqFMBYY7mHD"
      },
      "source": [
        "## 7.2 What does the rank of a matrix tell us?"
      ]
    },
    {
      "cell_type": "markdown",
      "metadata": {
        "id": "Vjg1IiCD8nnP"
      },
      "source": [
        "The rank of a matrix tells us the number of rows of the matrix that are linearly independent."
      ]
    },
    {
      "cell_type": "markdown",
      "metadata": {
        "id": "0Db2sc_V8QD6"
      },
      "source": [
        "# Linear Projections\n",
        "\n",
        "## 8.1 Line $L$ is formed by all of the vectors that can be created by scaling vector $v$ \n",
        "\\begin{align}\n",
        "v = \\begin{bmatrix} 1 & 3 \\end{bmatrix}\n",
        "\\end{align}\n",
        "\n",
        "\\begin{align}\n",
        "w = \\begin{bmatrix} -1 & 2 \\end{bmatrix}\n",
        "\\end{align}\n",
        "\n",
        "## find $proj_{L}(w)$\n",
        "\n",
        "## graph your projected vector to check your work (make sure your axis are square/even)"
      ]
    },
    {
      "cell_type": "code",
      "metadata": {
        "id": "hp5z2WTBCNKx",
        "outputId": "a120da1b-fa06-4e17-ce94-8ef3d81228e8",
        "colab": {
          "base_uri": "https://localhost:8080/",
          "height": 286
        }
      },
      "source": [
        "vecv = np.array([1,3])\n",
        "\n",
        "vecw = np.array([-1,2])\n",
        "\n",
        "vecw_proj_vecv = (np.dot(vecw,vecv)/np.dot(vecv, vecv))*vecv \n",
        "\n",
        "fig,axes = plt.subplots()\n",
        "\n",
        "fig.set_size_inches(4,4)\n",
        "\n",
        "axes.set_xlim(-1, 4)\n",
        "axes.set_ylim(-1,4)\n",
        "\n",
        "vecw_perp = vecw - vecw_proj_vecv\n",
        "\n",
        "# Plotting vecv(red), vecw(green) and vecw_proj_vecv(blue)\n",
        "plot_2dvectors([vecv, vecw, vecw_proj_vecv ], ['red', 'green', 'blue'], axes)\n",
        "\n",
        "print(vecw_proj_vecv, vecw_perp, np.dot(vecw_proj_vecv, vecw_perp))\n",
        "\n",
        "plot_2dvectors([vecw_perp], ['brown'], axes, orig=vecw_proj_vecv)"
      ],
      "execution_count": 322,
      "outputs": [
        {
          "output_type": "stream",
          "text": [
            "[0.5 1.5] [-1.5  0.5] 0.0\n"
          ],
          "name": "stdout"
        },
        {
          "output_type": "display_data",
          "data": {
            "image/png": "[encoded data removed]",
            "text/plain": [
              "<Figure size 288x288 with 1 Axes>"
            ]
          },
          "metadata": {
            "tags": [],
            "needs_background": "light"
          }
        }
      ]
    },
    {
      "cell_type": "code",
      "metadata": {
        "id": "3gmxMmBodXti"
      },
      "source": [
        ""
      ],
      "execution_count": 322,
      "outputs": []
    },
    {
      "cell_type": "markdown",
      "metadata": {
        "id": "TKkrPwRM-Oar"
      },
      "source": [
        "# Stretch Goal\n",
        "\n",
        "## For vectors that begin at the origin, the coordinates of where the vector ends can be interpreted as regular data points. (See 3Blue1Brown videos about Spans, Basis, etc.)\n",
        "\n",
        "## Write a function that can calculate the linear projection of each point (x,y) (vector) onto the line y=x. run the function and plot the original points in blue and the new projected points on the line y=x in red. \n",
        "\n",
        "## For extra points plot the orthogonal vectors as a dashed line from the original blue points to the projected red points."
      ]
    },
    {
      "cell_type": "code",
      "metadata": {
        "id": "cp52kZra-ykj",
        "outputId": "d30c308a-570f-4483-a99e-b6c76f65bf36",
        "colab": {
          "base_uri": "https://localhost:8080/",
          "height": 596
        }
      },
      "source": [
        "import pandas as pd\n",
        "import matplotlib.pyplot as plt\n",
        "\n",
        "def proj_xy(x, y, proj_vec=None):\n",
        "\n",
        "  if proj_vec is None:\n",
        "    proj_vec = [1,1]\n",
        "\n",
        "  xy_list = list(zip(x, y))\n",
        "\n",
        "  proj_vec = np.array(proj_vec)\n",
        "\n",
        "  proj_func = lambda u,v:(np.dot(u,v)/np.dot(v, v))*v\n",
        "\n",
        "  return zip(*[ proj_func(u,proj_vec) for u in xy_list])\n",
        "\n",
        "def plot_proj(x, y, xp, yp, axes):\n",
        "  # Compute the vector(O2P) going from the original vector(O) to the projected\n",
        "  # vector(P) on the line y=x, where O+O2P = P => O2P = P-O\n",
        "  #  \n",
        "  xv = xp - x \n",
        "  yv = yp - y\n",
        "\n",
        "  # Convert both sets of x and y coordinates to lists of (x,y) tuples\n",
        "  vecv = list(zip(xv, yv))\n",
        "  orig = list(zip(x,y))\n",
        "\n",
        "  for i,v in enumerate(vecv):\n",
        "    # linestyle doesn't appear to work with axes.quiver() which is what \n",
        "    # plot_2dvectors uses. \n",
        "    #plot_2dvectors([v], ['green'], axes, orig=orig[i])\n",
        "    # Using plt.arrow() to get the dashed line effect.\n",
        "    plt.arrow(*orig[i], *v, length_includes_head=True, head_width=0.2, head_length=0.2,color = 'g', linestyle='--')\n",
        "\n",
        "\n",
        "fig,axes = plt.subplots()\n",
        "\n",
        "fig.set_size_inches(10,10)\n",
        "\n",
        "axes.set_xlim(-1, 10)\n",
        "axes.set_ylim(-1,10)\n",
        "# Creating a dataframe for you to work with -Feel free to not use the dataframe if you don't want to.\n",
        "x_values = [1, 4, 7, 3, 9, 4, 5 ]\n",
        "y_values = [4, 2, 5, 0, 8, 2, 8]\n",
        "\n",
        "x_proj, y_proj = proj_xy(x_values, y_values)\n",
        "\n",
        "\n",
        "data = {\"x\": x_values, \"y\": y_values}\n",
        "\n",
        "data_proj = {\"x\": x_proj, \"y\":y_proj}\n",
        "\n",
        "df = pd.DataFrame(data)\n",
        "\n",
        "df_proj = pd.DataFrame(data_proj)\n",
        "\n",
        "plt.scatter(df.x, df.y,color='blue')\n",
        "\n",
        "plt.scatter(df_proj.x, df_proj.y, color='red')\n",
        "\n",
        "plot_proj(df.x, df.y, df_proj.x, df_proj.y, axes)\n",
        "\n",
        "plt.show()"
      ],
      "execution_count": 327,
      "outputs": [
        {
          "output_type": "display_data",
          "data": {
            "image/png": "[encoded data removed]",
            "text/plain": [
              "<Figure size 720x720 with 1 Axes>"
            ]
          },
          "metadata": {
            "tags": [],
            "needs_background": "light"
          }
        }
      ]
    },
    {
      "cell_type": "code",
      "metadata": {
        "id": "vuAR-jNd0HXp"
      },
      "source": [
        ""
      ],
      "execution_count": 323,
      "outputs": []
    },
    {
      "cell_type": "code",
      "metadata": {
        "id": "EZTA6Tj6BGDb"
      },
      "source": [
        ""
      ],
      "execution_count": 323,
      "outputs": []
    }
  ]
}