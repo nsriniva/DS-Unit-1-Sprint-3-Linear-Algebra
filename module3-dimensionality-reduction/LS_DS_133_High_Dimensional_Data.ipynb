{
  "nbformat": 4,
  "nbformat_minor": 0,
  "metadata": {
    "colab": {
      "name": "LS_DS_133_High_Dimensional_Data.ipynb",
      "provenance": [],
      "collapsed_sections": [],
      "include_colab_link": true
    },
    "kernelspec": {
      "display_name": "Python 3",
      "language": "python",
      "name": "python3"
    },
    "language_info": {
      "codemirror_mode": {
        "name": "ipython",
        "version": 3
      },
      "file_extension": ".py",
      "mimetype": "text/x-python",
      "name": "python",
      "nbconvert_exporter": "python",
      "pygments_lexer": "ipython3",
      "version": "3.6.4"
    }
  },
  "cells": [
    {
      "cell_type": "markdown",
      "metadata": {
        "id": "view-in-github",
        "colab_type": "text"
      },
      "source": [
        "<a href=\"https://colab.research.google.com/github/nsriniva/DS-Unit-1-Sprint-3-Linear-Algebra/blob/master/module3-dimensionality-reduction/LS_DS_133_High_Dimensional_Data.ipynb\" target=\"_parent\"><img src=\"https://colab.research.google.com/assets/colab-badge.svg\" alt=\"Open In Colab\"/></a>"
      ]
    },
    {
      "cell_type": "markdown",
      "metadata": {
        "id": "Fh6s0VRfWc4f"
      },
      "source": [
        "## Functions from a Linear Algebra Perspective\n",
        "\n",
        "In mathematics a function is a relation between a set of inputs (domain) and a set of outputs (range) with the property that each input is related to (mapped to) exactly one output. This means that for functions that are represented in $\\mathbb{R}^2$ a function has to pass what is known as the \"vertical line test.\" The vertical line test means that if you were to pass a vertical line over the function it would only be touching the function in one spot at any given time\n",
        "\n",
        "Which of the graphs below are functions?\n",
        "\n",
        "![Vertical Line Test](https://dr282zn36sxxg.cloudfront.net/datastreams/f-d%3A85b0a1b61e819b34d9de44bdc1bf16987fcf6799a764bfc5e0328bfc%2BIMAGE_THUMB_POSTCARD_TINY%2BIMAGE_THUMB_POSTCARD_TINY.1)\n",
        "\n",
        "I want to re-emphasize that a function is a mapping from a set of inputs to a set of outputs where no input is mapped to multiple outputs.\n",
        "\n",
        "## Relations as Functions\n",
        "\n",
        "Imagine that we were trying to plot the line that created by the function $f(x) = 2x + 3$\n",
        "\n",
        "How would we do it? Well, we would probably pick some simple $x$ values that exist near the origin and plug them in to see what their corresponding $y$ values were. It's clear that this is the equation for a line and we know that we're plotting these in $\\mathbb{R}^2$ we would probably make some kind of a table or list of points that are on the line and then \"connect the dots\" to plot it:\n",
        "\n",
        "Help me create some points that we would use to graph this line\n",
        "\n",
        "\\begin{align}\n",
        "\\text{Points: } (-2, y), (-1, y), (0, y), (1, y), (2, y)\n",
        "\\end{align}\n",
        "\n",
        "These points do not completely represent that function, but we know that lines have a constant slope, so we don't need to find every ordered pair in the line in order to be able to plot it.\n",
        "\n",
        "But say that we had some function where the only 5 inputs were the 5 that I gave you above and the only 5 outputs were the 5 that I gave you above. Tthis would be an odd function, and I don't know how we would define an equation for it. But what if we just let the ordered pairs themselves represent the function -the mapping from domain values to range values. We could create a set of ordered pairs that shows a mapping from domain values (x) to range values (y) where no domain value maps to the same range value twice. This set of ordered pairs is called a \"relation\"\n",
        "\n",
        "\\begin{align}\n",
        "\\text{Relation: } \\{(-2, -1), (-1, 1), (0, 3), (1, 5), (2, 7)\\}\n",
        "\\end{align}\n",
        "\n",
        "Although this relation isn't represented by a specific equation (because it's just 5 points). However it meets our definition of a function, so this set of ordered pairs which show a valid mapping of domain values to range values is a function. If we plot these 5 points it would be a bit sparse but it would pass the vertical line test. \n",
        "\n",
        "Relations that satisfy these conditions are functions. (albeit very simple ones)\n",
        "\n",
        "### Which of the following relations are functions?\n",
        "\n",
        "\\begin{align}\n",
        "\\text{Relation 1: } \\{(-2, -1), (-2, 1), (2, 3)\\}\n",
        "\\\\\n",
        "\\text{Relation 2: } \\{(-2, 5), (-1, 5), (0, 5)\\}\n",
        "\\\\\n",
        "\\text{Relation 3: } \\{(0, -1), (-1, 1), (0, 3)\\}\n",
        "\\end{align}"
      ]
    },
    {
      "cell_type": "code",
      "metadata": {
        "id": "dl2PSJmqrb3k",
        "outputId": "55dee577-9efb-43fe-e7d1-2e9fb2ef060c",
        "colab": {
          "base_uri": "https://localhost:8080/",
          "height": 35
        }
      },
      "source": [
        "#Function with one input\n",
        "def f(x):\n",
        "  return (2*x + 3)\n",
        "\n",
        "f(-2)\n",
        "\n",
        "\n",
        "#Function with two inputs\n",
        "\n",
        "def g(x1, x2):\n",
        "  return(x1+x2)\n",
        "\n",
        "\n",
        "g(1,3)  \n",
        "\n",
        "\n",
        "#this function has three inputs\n",
        "def h(x1, x2, x3):\n",
        "  return(x1 + 2, x2 - x3)\n",
        "\n",
        "h(2,3,4)\n",
        "\n",
        "\n",
        "def h(vec):\n",
        "  return[vec[0] + 2, vec[1] - vec[2] ]\n",
        "\n",
        "\n",
        "h([2,3,4])\n"
      ],
      "execution_count": null,
      "outputs": [
        {
          "output_type": "execute_result",
          "data": {
            "text/plain": [
              "[4, -1]"
            ]
          },
          "metadata": {
            "tags": []
          },
          "execution_count": 26
        }
      ]
    },
    {
      "cell_type": "markdown",
      "metadata": {
        "id": "OCIUFXg-VPW4"
      },
      "source": [
        "## Linear Transformations (vector transformations)\n",
        "\n",
        "Lets look at the function $f(x) = 2x + 3$ again.\n",
        "\n",
        "This is how lower level math classes deal with functions, they put one number in as input and they get one output, but there's no reason why we need to limit functions to having just one input.\n",
        "\n",
        "What if I defined a function like this $g(x_1, x_2) = x_1+x_2$\n",
        "\n",
        "**_Side Note:_** I hope that if you weren't already comfortable with it that this kind of function notation, that it makes a lot more sense since you've been writing python functions and you recognize the things in the parenthesis as being the parameters of a function just like how we would write it in code.\n",
        "\n",
        "The above function $g$ requires a two-dimensional tuple of inputs (two inputs) and gives a single output. We would say that this function is a mapping from $\\mathbb{R}^2$ to $\\mathbb{R}$.\n",
        "\n",
        "Here's another function: $h(x_1, x_2, x_3) = (x_1 + 2, x_2 - x_3 )$\n",
        "\n",
        "What is the dimensionality of the domain compared to the range (codomain)? Can you see that this mapping takes sets of values points from a certain dimensionality and maps them to sets of values with a smaller dimensionality?\n",
        "\n",
        "## Vector Transformations\n",
        "\n",
        "For today, we're going to go easy on you and imagine a mapping of vectors from $\\mathbb{R}^2$ to $\\mathbb{R}^2$.  We're just going to work with transforming 2D vectors to some other vector in two dimensions. \n",
        "\n",
        "In linear algebra for a linear transformation to be valid it must meet the following two requirements:\n",
        "\n",
        "\\begin{align}\n",
        "T(u+v) = T(u)+T(v)\n",
        "\\\\\n",
        "T(cu) = cT(u)\n",
        "\\end{align}\n",
        "\n",
        "What these two properties mean is that scaling vectors is still valid and that a transformation of two vectors can be seen as the composition of smaller transformations (like scaled unit vectors added together). See 3Blue1Brown videos for more intuition on this.\n",
        "\n",
        "## Linear Transformations As Matrix-Vector Products"
      ]
    },
    {
      "cell_type": "markdown",
      "metadata": {
        "id": "7p5k0VeRoxIT"
      },
      "source": [
        "What if I defined a mapping from $\\mathbb{R}^2$ to $\\mathbb{R}^2$ like so:\n",
        "\n",
        "\\begin{align}\n",
        "f(\\begin{bmatrix}x_1 \\\\ x_2\\end{bmatrix}) = \\begin{bmatrix} 2x_1 + x_2 \\\\ -3x_2 + x_1 \\\\  \\end{bmatrix}\n",
        "\\end{align}\n",
        "\n",
        "Well, remember how we can write any vector as a linear combination of scalars and basis vectors? How would I rewrite my input vector in those terms?\n",
        "\n",
        "\\begin{align}\n",
        "\\\\\n",
        "\\begin{bmatrix} x_1 \\\\ x_2 \\end{bmatrix} = x_1\\begin{bmatrix} 1 \\\\ 0 \\end{bmatrix} + x_2\\begin{bmatrix} 0 \\\\ 1 \\end{bmatrix}\n",
        "\\\\\n",
        "\\end{align}\n",
        "\n",
        "You might remember from the 3Blue1Brown video about linear transformations that they can be described as the composition of transformations of our basis vectors. rewriting our input vector in this way will help us see that.\n",
        "\n",
        "What if we evaluated our expression by passing in the unit vectors $\\hat{i}$ and $\\hat{j}$?\n",
        "\n",
        "\\begin{align}\n",
        "f(\\begin{bmatrix} 1 \\\\ 0 \\end{bmatrix}) = \\begin{bmatrix} 2 \\\\ 1 \\end{bmatrix}\n",
        "\\\\\n",
        "f(\\begin{bmatrix} 0 \\\\ 1 \\end{bmatrix}) = \\begin{bmatrix} 1 \\\\ -3 \\end{bmatrix}\n",
        "\\end{align}\n",
        "\n",
        "By passing in our unit vectors individually, We are essentially asking: Tell me what happens to all of the x values, and then tell me what happens to all of the y values individually. And the resulting vector will be a composition of how both the y values and x values change. \n",
        "\n",
        "The coolest part about passing in the unit vectors is that we've got two new vectors back that we can compose into a transformation matrix:\n",
        "\n",
        "\\begin{align}\n",
        "T = \\begin{bmatrix} 2 & 1 \\\\ 1 & -3 \\end{bmatrix}\n",
        "\\end{align}\n",
        "\n",
        "We can now describe the same function above as the product of matrix-vector multiplication between our resulting transformation vector and any vector in $\\mathbb{R^2}$.\n",
        "\n",
        "Lets test it! First lets use the original function to calculate the result of passing in \n",
        "\n",
        "\\begin{align}\n",
        "f(\\begin{bmatrix} 3 \\\\ 4 \\end{bmatrix}) = \\begin{bmatrix} 10 \\\\ -9 \\end{bmatrix}\n",
        "\\end{align}\n",
        "\n",
        "Now lets do it via matrix multiplication:\n",
        "\n",
        "\\begin{align}\n",
        "\\begin{bmatrix} 2 & 1 \\\\ 1 & -3 \\end{bmatrix}\\begin{bmatrix} 3 \\\\ 4 \\end{bmatrix} = \\begin{bmatrix} 10 \\\\ -9 \\end{bmatrix}\n",
        "\\end{align}\n",
        "\n",
        "Wild right???\n",
        "\n",
        "Because of the properties of linear transformations, we can describe any linear transformation as matrix vector multiplication where the columns of the transformation matrix come from the result of passing in the dimension appropriate unit vectors into the function. So cool that we could represent a much more traditional function (mapping) as matrix-vector multiplication because of the way that we can represent vectors as linear combinations of scalars and unit vectors. "
      ]
    },
    {
      "cell_type": "code",
      "metadata": {
        "id": "R2zRiorVwA4w",
        "outputId": "a0de7fcb-52b2-4ca0-8072-a3ef6ab3e657",
        "colab": {
          "base_uri": "https://localhost:8080/",
          "height": 281
        }
      },
      "source": [
        "import matplotlib.pyplot as plt\n",
        "\n",
        "# Vectors\n",
        "input_vector = [3, 4]\n",
        "output_vector = [10, -9]\n",
        "\n",
        "# Plot the Vectors\n",
        "plt.arrow(0,0, input_vector[0], input_vector[1],head_width=.05, head_length=0.05, color ='red')\n",
        "plt.arrow(0,0, output_vector[0], output_vector[1],head_width=.05, head_length=0.05, color ='blue')\n",
        "plt.xlim(0,11)          \n",
        "plt.ylim(-10,5)\n",
        "plt.title(\"Transformed Vector\")\n",
        "plt.show()"
      ],
      "execution_count": null,
      "outputs": [
        {
          "output_type": "display_data",
          "data": {
            "image/png": "[encoded data removed]",
            "text/plain": [
              "<Figure size 432x288 with 1 Axes>"
            ]
          },
          "metadata": {
            "tags": [],
            "needs_background": "light"
          }
        }
      ]
    },
    {
      "cell_type": "markdown",
      "metadata": {
        "id": "C_aNp4uk8cRl"
      },
      "source": [
        "## Intro to Eigenvalues and Eigenvectors (Intuition)\n",
        "\n",
        "All vector-matrix multiplication can be thought of as a multi-dimensional transformation of space. (I hope that by now you're realizing how critical linear algebra is for representing multi-dimensional data.) This is hard for me to demonstrate without some cool animations so I'll have to rely upon 3Blue1Brown videos to help get you that intuition. Those videos are really the only place where I've seen that principle demonstrated even a little bit effectively.\n",
        "\n",
        "One thing that might not be immediately clear however, is that not all points in space get transformed in exactly the same way. Think about a transformation in $\\mathbb{R^3}$ where we rotate 3D space. You could imagine a globe spinning on its axis.\n",
        "\n",
        "![Globe Spinning GIF](https://thumbs.gfycat.com/FoolishLavishDeer-small.gif)\n",
        "\n",
        "When a globe rotates, does every point on the globe move the same distance in space? No, points closer to the pole move less than points near the equator (kinda weird if you think about it that people living near the equator are hurtling through space at a different rate than other latitudes). \n",
        "\n",
        "What about the vector represented by the earth's axis? Does it move? \n",
        "\n",
        "We could call this vector the **eigenvector** of the earth's rotation brecause the transformation does not reorient it. Any transformation that you could conceive of possesses eigenvectors - dimensions of space that are not pointed in a new direction by the transformation described by a certain transformation matrix. \n",
        "\n",
        "## So what's an eigenvalue?\n",
        "\n",
        "An eigenvector is any vector that doesn't change its orientation during a given transformation, but an eigenvector might still get scaled by some scalar. It can get stretched or squished, it just can't change the direction in which it is pointing. An **eigenvalue** is the scalar that represents how its corresponding eigenvector was scaled during the transformation. Eigenvectors and eigenvalues always come in pairs.\n",
        "\n",
        "What is the eigenvalue of the earth's axis when the earth rotates?\n",
        "\n",
        "## Finding Eigenvalues and Eigenvectors\n",
        "\n",
        "We don't have time to go over this today and it's one of the more complex processes in Linear Algebra. It usually involves a combination of a process called \"Matrix Diagonalization\" and Gaussian Elimination. If you're interested, you can look it up but that process is too complex for the time that we have today and I think you will be better served by focusing on an application of all of these concepts: **Principle Component Analysis (PCA)**\n",
        "\n",
        "## One More Thing\n",
        "\n",
        "What's the symbol commonly used to denote eigenvalues? - $\\lambda$ \n",
        "\n",
        "\\begin{align}\n",
        "T(v) = \\lambda v\n",
        "\\end{align}"
      ]
    },
    {
      "cell_type": "markdown",
      "metadata": {
        "id": "sJTGZRWtR40J"
      },
      "source": [
        "# The Curse of Dimensionality\n",
        "\n",
        "The Curse of Dimensionality is a term that is used to refer to some of the challenges and limitations that arise from trying to process or model datasets with a large number of features. (hundreds or thousands)"
      ]
    },
    {
      "cell_type": "markdown",
      "metadata": {
        "id": "Hgh7mTh02rwW"
      },
      "source": [
        "## What is a Dimension?\n",
        "\n",
        "Imagine that we have a dataset with 50 numeric datapoints. How would we graph a single column of data? Well, we have nothing else in the dataset to compare it to, so all that we can do is really plot the values on a one-dimensional number line."
      ]
    },
    {
      "cell_type": "code",
      "metadata": {
        "id": "4j2kbuwd2-8Q",
        "outputId": "db80b0ad-b574-4290-856d-2259095093d5",
        "colab": {
          "base_uri": "https://localhost:8080/",
          "height": 202
        }
      },
      "source": [
        "import pandas as pd\n",
        "import random\n",
        "import matplotlib.pyplot as plt\n",
        "import matplotlib.ticker as ticker\n",
        "import numpy as np\n",
        "\n",
        "# Create a list of 50 random floats and add them to a dataframe\n",
        "N = 50\n",
        "x = np.random.rand(N)*100\n",
        "\n",
        "# Crete Dataframe\n",
        "data = {\"x\": x}\n",
        "df = pd.DataFrame(data)\n",
        "df.head()"
      ],
      "execution_count": null,
      "outputs": [
        {
          "output_type": "execute_result",
          "data": {
            "text/html": [
              "<div>\n",
              "<style scoped>\n",
              "    .dataframe tbody tr th:only-of-type {\n",
              "        vertical-align: middle;\n",
              "    }\n",
              "\n",
              "    .dataframe tbody tr th {\n",
              "        vertical-align: top;\n",
              "    }\n",
              "\n",
              "    .dataframe thead th {\n",
              "        text-align: right;\n",
              "    }\n",
              "</style>\n",
              "<table border=\"1\" class=\"dataframe\">\n",
              "  <thead>\n",
              "    <tr style=\"text-align: right;\">\n",
              "      <th></th>\n",
              "      <th>x</th>\n",
              "    </tr>\n",
              "  </thead>\n",
              "  <tbody>\n",
              "    <tr>\n",
              "      <th>0</th>\n",
              "      <td>22.583043</td>\n",
              "    </tr>\n",
              "    <tr>\n",
              "      <th>1</th>\n",
              "      <td>83.303430</td>\n",
              "    </tr>\n",
              "    <tr>\n",
              "      <th>2</th>\n",
              "      <td>44.913565</td>\n",
              "    </tr>\n",
              "    <tr>\n",
              "      <th>3</th>\n",
              "      <td>97.842839</td>\n",
              "    </tr>\n",
              "    <tr>\n",
              "      <th>4</th>\n",
              "      <td>68.661842</td>\n",
              "    </tr>\n",
              "  </tbody>\n",
              "</table>\n",
              "</div>"
            ],
            "text/plain": [
              "           x\n",
              "0  22.583043\n",
              "1  83.303430\n",
              "2  44.913565\n",
              "3  97.842839\n",
              "4  68.661842"
            ]
          },
          "metadata": {
            "tags": []
          },
          "execution_count": 28
        }
      ]
    },
    {
      "cell_type": "code",
      "metadata": {
        "id": "4_QWXZ4E51Jm",
        "outputId": "f3a0669b-9d87-44cc-e1b8-1eb0a76a25fa",
        "colab": {
          "base_uri": "https://localhost:8080/",
          "height": 95
        }
      },
      "source": [
        "# Plot the floats on a number line\n",
        "\n",
        "# Setup a plot such that only the bottom spine is shown\n",
        "def setup(ax):\n",
        "    ax.spines['right'].set_color('none')\n",
        "    ax.spines['left'].set_color('none')\n",
        "    ax.yaxis.set_major_locator(ticker.NullLocator())\n",
        "    ax.spines['top'].set_color('none')\n",
        "    ax.xaxis.set_ticks_position('bottom')\n",
        "    ax.tick_params(which='major', width=1.00)\n",
        "    ax.tick_params(which='major', length=5)\n",
        "    ax.tick_params(which='minor', width=0.75)\n",
        "    ax.tick_params(which='minor', length=2.5)\n",
        "    ax.set_xlim(0, 100)\n",
        "    ax.set_ylim(0, 1)\n",
        "    ax.patch.set_alpha(0.0)\n",
        "    \n",
        "plt.figure(figsize=(8, 6))\n",
        "n = 8\n",
        "\n",
        "# Create some y values to satisfy matplotlib\n",
        "df['y'] = pd.Series(list(np.zeros(50)))\n",
        "\n",
        "# Multiple Locator tick mark settings\n",
        "ax = plt.subplot(n, 1, 2)\n",
        "setup(ax)\n",
        "ax.xaxis.set_major_locator(ticker.MultipleLocator(5))\n",
        "ax.text(0.0, 0.5, \"Number Line\", fontsize=14,\n",
        "        transform=ax.transAxes)\n",
        "\n",
        "# Push the top of the top axes outside the figure because we only show the\n",
        "# bottom spine.\n",
        "plt.subplots_adjust(left=0.05, right=0.95, bottom=0.05, top=1.05)\n",
        "plt.scatter(df.x, df.y, alpha=0.5)\n",
        "\n",
        "plt.show()"
      ],
      "execution_count": null,
      "outputs": [
        {
          "output_type": "display_data",
          "data": {
            "image/png": "[encoded data removed]",
            "text/plain": [
              "<Figure size 576x432 with 1 Axes>"
            ]
          },
          "metadata": {
            "tags": [],
            "needs_background": "light"
          }
        }
      ]
    },
    {
      "cell_type": "markdown",
      "metadata": {
        "id": "kgcagKZh_-JJ"
      },
      "source": [
        "### What a pain..."
      ]
    },
    {
      "cell_type": "markdown",
      "metadata": {
        "id": "rgaFf9mgBLnR"
      },
      "source": [
        "## Two Dimensions\n",
        "What if I wanted to plot plot these points on a two-dimensional graph like a scatter plot? Well, I would need y values to tell the points where to go, or else they would just sit on the x-axis of the 2D graph. If we don't have any y values, the additional axis of the coordinate plane serves no purpose.\n",
        "\n",
        "The number line is a 1D graph with 1D data. Scatter plots are 2Ds graphs that facilitate 2D data."
      ]
    },
    {
      "cell_type": "code",
      "metadata": {
        "id": "WIXbR9pxH5tn",
        "outputId": "f088d00b-70e6-47c4-fc81-babc7f6c4610",
        "colab": {
          "base_uri": "https://localhost:8080/",
          "height": 281
        }
      },
      "source": [
        "plt.scatter(df.x, df.y, alpha=0.5)\n",
        "plt.title(\"Not a good use of a 2D Graph\")\n",
        "plt.show()"
      ],
      "execution_count": null,
      "outputs": [
        {
          "output_type": "display_data",
          "data": {
            "image/png": "[encoded data removed]",
            "text/plain": [
              "<Figure size 432x288 with 1 Axes>"
            ]
          },
          "metadata": {
            "tags": [],
            "needs_background": "light"
          }
        }
      ]
    },
    {
      "cell_type": "code",
      "metadata": {
        "id": "H__fjvFHJFR2",
        "outputId": "2133f4c4-374e-4473-9264-38670894bba3",
        "colab": {
          "base_uri": "https://localhost:8080/",
          "height": 202
        }
      },
      "source": [
        "# Generate 50 random y values and add them to the dataframe\n",
        "df['y'] = pd.Series(list(np.random.rand(N)*100))\n",
        "df.head()"
      ],
      "execution_count": null,
      "outputs": [
        {
          "output_type": "execute_result",
          "data": {
            "text/html": [
              "<div>\n",
              "<style scoped>\n",
              "    .dataframe tbody tr th:only-of-type {\n",
              "        vertical-align: middle;\n",
              "    }\n",
              "\n",
              "    .dataframe tbody tr th {\n",
              "        vertical-align: top;\n",
              "    }\n",
              "\n",
              "    .dataframe thead th {\n",
              "        text-align: right;\n",
              "    }\n",
              "</style>\n",
              "<table border=\"1\" class=\"dataframe\">\n",
              "  <thead>\n",
              "    <tr style=\"text-align: right;\">\n",
              "      <th></th>\n",
              "      <th>x</th>\n",
              "      <th>y</th>\n",
              "    </tr>\n",
              "  </thead>\n",
              "  <tbody>\n",
              "    <tr>\n",
              "      <th>0</th>\n",
              "      <td>22.583043</td>\n",
              "      <td>52.157842</td>\n",
              "    </tr>\n",
              "    <tr>\n",
              "      <th>1</th>\n",
              "      <td>83.303430</td>\n",
              "      <td>74.146003</td>\n",
              "    </tr>\n",
              "    <tr>\n",
              "      <th>2</th>\n",
              "      <td>44.913565</td>\n",
              "      <td>1.815586</td>\n",
              "    </tr>\n",
              "    <tr>\n",
              "      <th>3</th>\n",
              "      <td>97.842839</td>\n",
              "      <td>66.215315</td>\n",
              "    </tr>\n",
              "    <tr>\n",
              "      <th>4</th>\n",
              "      <td>68.661842</td>\n",
              "      <td>91.643027</td>\n",
              "    </tr>\n",
              "  </tbody>\n",
              "</table>\n",
              "</div>"
            ],
            "text/plain": [
              "           x          y\n",
              "0  22.583043  52.157842\n",
              "1  83.303430  74.146003\n",
              "2  44.913565   1.815586\n",
              "3  97.842839  66.215315\n",
              "4  68.661842  91.643027"
            ]
          },
          "metadata": {
            "tags": []
          },
          "execution_count": 31
        }
      ]
    },
    {
      "cell_type": "code",
      "metadata": {
        "id": "RuhA0WuNJWqm",
        "outputId": "876fd6b1-24de-48ca-c08f-93a641a9520f",
        "colab": {
          "base_uri": "https://localhost:8080/",
          "height": 281
        }
      },
      "source": [
        "# Graph 2D data on a 2D plot\n",
        "plt.scatter(df['x'], df['y'], alpha=0.5)\n",
        "plt.title(\"A Better Use of a 2D Graph\")\n",
        "plt.show()"
      ],
      "execution_count": null,
      "outputs": [
        {
          "output_type": "display_data",
          "data": {
            "image/png": "[encoded data removed]",
            "text/plain": [
              "<Figure size 432x288 with 1 Axes>"
            ]
          },
          "metadata": {
            "tags": [],
            "needs_background": "light"
          }
        }
      ]
    },
    {
      "cell_type": "markdown",
      "metadata": {
        "id": "1i9iYRKcJuRd"
      },
      "source": [
        "### That's how easy the number line should have been... Somebody fix it and submit a Pull Request to Matplotlib\n",
        "![Drake Pointing](http://img2.thejournal.ie/answer/56054/rectangle?width=260&version=53090)"
      ]
    },
    {
      "cell_type": "markdown",
      "metadata": {
        "id": "iesGye7YKck7"
      },
      "source": [
        "## Lets do 3-Dimensional Data on a 3-Dimensional Graph!\n",
        "\n",
        "I hope you've realized that the number of dimensions that we want to plot, the number of columns that is required in the dataframe. This is why you'll hear people refer to Dataframe columns: Columns, Features, and Dimensions, interchangeably."
      ]
    },
    {
      "cell_type": "code",
      "metadata": {
        "id": "jWc5yMZPLe5B",
        "outputId": "02d9620b-f1fd-475c-834e-17003618799e",
        "colab": {
          "base_uri": "https://localhost:8080/",
          "height": 248
        }
      },
      "source": [
        "from mpl_toolkits.mplot3d import Axes3D\n",
        "\n",
        "# Add Z dimension to dataframe\n",
        "df['z'] = pd.Series(list(np.random.rand(N)*100))\n",
        "\n",
        "threedee = plt.figure().gca(projection='3d')\n",
        "threedee.scatter(df['x'], df['y'], df['z'])\n",
        "threedee.set_xlabel('X')\n",
        "threedee.set_ylabel('Y')\n",
        "threedee.set_zlabel('Z')\n",
        "plt.show()"
      ],
      "execution_count": null,
      "outputs": [
        {
          "output_type": "display_data",
          "data": {
            "image/png": "[encoded data removed]",
            "text/plain": [
              "<Figure size 432x288 with 1 Axes>"
            ]
          },
          "metadata": {
            "tags": [],
            "needs_background": "light"
          }
        }
      ]
    },
    {
      "cell_type": "markdown",
      "metadata": {
        "id": "iz5aYvqQNuSv"
      },
      "source": [
        "## 3D Graphs on 2D screens are a lie... unless they can rotate.\n",
        "\n",
        "Unless this graph can rotate like a hologram it's a 2D graph that's trying really hard, yet failing to be a 3D graph. Look more closely at the pionts and you'll realize that you actually have no idea where they are at. You have no depth perception unless you can rotate the graph. This is something that's possible to do in iPython notebooks, but that I didn't want to mess with right now. You can explore it on your own. Some libraries will try and change the diameter of the points so that ones \"closer\" to the viewer have some kind of depth, but this is an imperfect solution."
      ]
    },
    {
      "cell_type": "markdown",
      "metadata": {
        "id": "Zst4Ae8AOw9L"
      },
      "source": [
        "## What if we tried a spatially represent 4-Dimensional Data in a 4D graph?\n",
        "\n",
        "![Mind Blown](https://ih1.redbubble.net/image.400523286.2984/ap,550x550,16x12,1,transparent,t.u3.png)\n",
        "\n",
        "While it **is** technically possible to plot points on a 4-Dimensional graph, the result is by no means intuitive and suffers from even worse interpretation problems than the 3D graph.\n",
        "\n",
        "![Hyper Cube](http://www.zamandayolculuk.com/09/4d_quadiper.gif)\n",
        "\n",
        "A cube is 3-dimensional, so any representation larger than 3 dimensions is referred to as an n-dimensional hypercube in n-dimensional hyperspace. This is why in space movies/books they always zoom to \"hyperspace\" when they're trying to take a shortcut through the 3 spatial dimensions of our reality."
      ]
    },
    {
      "cell_type": "markdown",
      "metadata": {
        "id": "XEsEK8SUR1zH"
      },
      "source": [
        "## Now Lets do a 1000 dimensional dataset!\n",
        "\n",
        "You see the problem? \n",
        "\n",
        "While the inability for the human brain to spatially comprehend more than 3 dimensions is not **really** the curse of dimensionality, this limitation of our human brain is related to some of the challenges of dealing with high-dimensional data.\n",
        "\n",
        "## A thought experiment\n",
        "\n",
        "A great explanation from a Quora user: (Sorry, I can't find the actual Quora post that this originated from) I've modified it a little bit as well.\n",
        "\n",
        "```\n",
        "Let's say you have a straight line 100 yards long and you dropped 10 pennies somewhere on it. It wouldn't be too hard to find one. You walk along the line and it takes a few seconds, maybe as long as a couple of minutes if you're unlucky.\n",
        "\n",
        "Now let's say you have a square 100 yards on each side and you dropped 10 pennies somewhere on it. It would be harder. The pennies are more spread out now. This is like searching across two football fields stuck together. It could take hours or days to find one. (on average, 10 times longer than the first time)\n",
        "\n",
        "Now imagine a cube 100 yards across. That's like searching a 30-story building the size of a football stadium. Ugh. (It's now 100 times harder to find a penny in this space than in the first example)\n",
        "\n",
        "The difficulty of searching through the space gets exponentially harder as you have more dimensions.\n",
        "```\n"
      ]
    },
    {
      "cell_type": "markdown",
      "metadata": {
        "id": "cENzttkdUilw"
      },
      "source": [
        "## Challenges of High Dimensional Spaces\n",
        "\n",
        "### More difficult to explore the data and create visualizations\n",
        "\n",
        "<img src=\"https://seaborn.pydata.org/_images/seaborn-pairplot-1.png\" height=400 width=400>\n",
        "\n",
        "This pairplot shows us all of the possible scatterplots that could be created from a 4-dimensional dataset. Where the scatter plots would be plotted against themselves they have been replaced with histograms to show the distribution of a single variable.\n",
        "\n",
        "Question: How many scatter plots would you have to look at if you had 1000 dimensions in a dataset?\n",
        "\n",
        "- Remember that there are a lot of redundant scatterplots with pairplots\n",
        "\n",
        "### Diminishing returns to adding features (increased redundancy)\n",
        "Not every feature is as important as every other feature when it comes to capturing relationships in data. he likelihood of adding a feature that contributes meaningful signal to a particular predictive endeavor decreases with each additional dimension.\n",
        "\n",
        "A good example of this is Deep Learning image recognition tasks:\n",
        "\n",
        "![different resolution images](https://ccideas.com/wp-content/uploads/2012/02/hi-low-res.jpg)\n",
        "\n",
        "How does increasing the number of pixels (dimensions of an image) increase our ability to detect what the image is? \n",
        "\n",
        "If an extra dimension is more expensive to process but adds less value to a model, then at some point it isn't cost effective to add additional dimensions.\n",
        "\n",
        "### Increased computational workload\n",
        "\n",
        "Just like how it takes more time to find the pennies in the 100x100x100 yard cube.\n",
        "\n",
        "### Increased sparcity of data - Measures of distance (Euclidean) lose meaning \n",
        "\n",
        "As we add dimensions, our datapoints become more spread out. Just look at the difference between the 1-dimensional numberline and the 2-dimensional scatterplot that we did above. With each dimension that we add our datapoints spread out further, but at a decreasing rate. Eventually, in extremely high dimensional settings all datapoints appear to be more or less equidistant to one another. This is crippling to algorithms that rely upon measures of distance (Like Clustering for example). We'll talk more about this on Thursday! \n",
        "\n",
        "### Low number of observations relative to dimensions increases the risk of overfitting\n",
        "\n",
        "![Overfitting vs Underfitting](https://cdn-images-1.medium.com/max/1125/1*_7OPgojau8hkiPUiHoGK_w.png)\n",
        "\n",
        "The the degree to which increased dimensions can lead to overfitting varies from model to model. The above images are examples of a linear regression model that is attempting to fit a good line through the data. We'll talk about this extensively next week, but linear regression models can be curved, You've typically seen a straight line cutting through a cloud of points, but just no that fitting a curve to a cloud of points doesn't violate the linearity of the model equation. Don't worry about this too much right now.\n",
        "\n",
        "With a linear regression you can create a bend in the line of best fit by introducing another parameter. This parameter has to come from your dataset as another feature (or dimension). If my cloud of points is made up of only 9 data points, then I can curve my line of best fit exactly through each point by including 9 parameters. When discussing this aspect of the Curse of Dimensionality we will abbreviate the number of parameters that we are including in the model (dimensions, features) as **P** and the number of observations (rows in a dataset) as **N**. \n",
        "\n",
        "If **P** $\\geq$ **N** then I am at extreme risk of overfitting my model. Overfitting means that my model has fit to the noise or variance or the data rather than the acutal signal or phenomenon that we are trying to model. This damages the predictive accuracy of a model and makes it so that our model will not be able to generalize (perform well) to new data that it hasn't seen before.\n",
        "\n",
        "### Rules of Thumb\n",
        "\n",
        "While these rules of thumb can vary from model to model, some say that you should always make sure that you have 5 times the number of observations as you have parameters in your model. This is an easier task for some models than others. Some practitioners hold a more extreme view and say that the number of observations should be the square of the number of parameters. I think this is silly once you get to truly high numbers of dimensions, but some people are adamant about it (past professors of mine who really didn't deal with really high numbers of dimensions in their work and were blind to the existence of any other statistical approaches).\n"
      ]
    },
    {
      "cell_type": "markdown",
      "metadata": {
        "id": "VfLKz4VmnJGB"
      },
      "source": [
        "## Remember This: \n",
        "\n",
        "### You're in grave danger of overfitting if P $\\geq$ N\n",
        "### Make sure you have N = 5P (as a minimum)\n",
        "### Having more observations is almost always better\n",
        "### More data in terms of additional dimensions has diminishing value"
      ]
    },
    {
      "cell_type": "markdown",
      "metadata": {
        "id": "ori1ULFLVBXF"
      },
      "source": [
        "## Solutions \n",
        "\n",
        "### Discard Redundant or \n",
        "### Get More Data - LOTS more data\n",
        "### Don't measure similarity via Euclidean Distance\n",
        "### Get More Data - more observations not more features\n",
        "\n",
        "More data covereth a multitude of sins.\n"
      ]
    },
    {
      "cell_type": "markdown",
      "metadata": {
        "id": "AW2DajrOPCp7"
      },
      "source": [
        "# Dimensionality Reduction Techniques:\n",
        "\n",
        "The Curse of Dimensionality means that as \"Big Data\" gets bigger and bigger the challenges associated with it become more difficult. Not only is it difficult to explore and visualize high dimensional data, but also certain intuitions that exist in 2d or 3d space begin to betray us (distance between points for example). Also models that have a high feature to observation ratio are more prone to overfitting. \n",
        "\n",
        "What if we could take Big Data and make it smaller while still retaining most of its substance? In Machine Learning there are a whole host of Dimensionality Reduction Techniques that enable us to do exactly that. (with some tradeoffs - like always.)"
      ]
    },
    {
      "cell_type": "markdown",
      "metadata": {
        "id": "y8jR-MdQgdHV"
      },
      "source": [
        "## Feacture Selection: \n",
        "\n",
        "Say we have 100 features in our dataset. Instead with fighting with all of them, what if we just used the ones that contributed the most. Feature Selection refers to methods of filtering irrelevant or redundant features from our dataset."
      ]
    },
    {
      "cell_type": "markdown",
      "metadata": {
        "id": "1KazJzMcgaNO"
      },
      "source": [
        "## Feature Extraction:\n",
        "\n",
        "Feature Extraction creates a new, smaller set of features that stills captures most of the useful information. Feature selection finds a suitable subset of a dataset's features, feature extraction creates new ones altogether. PCA is a Feature Extraction method."
      ]
    },
    {
      "cell_type": "markdown",
      "metadata": {
        "id": "M-1dvyzVQlnB"
      },
      "source": [
        "# Principal Component Analysis (PCA) \n",
        "\n",
        "PCA is a technique that transforms a high dimensional dataset into a new lower dimensional dataset while preserving the maximum amount of information from the original data"
      ]
    },
    {
      "cell_type": "markdown",
      "metadata": {
        "id": "nXPGw6hf8p72"
      },
      "source": [
        "# Variance == Information\n",
        "\n",
        "Imagine you were making shadow puppets by putting your hand in front of some light source that was projecting onto a wall.\n",
        "\n",
        "If you want the shadow that was being cast onto the wall to be very recognizable as a hand which way would you orient your hand? (kill screenshare)\n",
        "\n",
        "Why is that orientation more recognizeable as a hand than other orientations?\n",
        "\n",
        "## What is shown in the image below?\n",
        "\n",
        "![Mystery Image](https://lambdachops.com/img/mystery-image.png)\n",
        "\n",
        "What about with clouds of data points?\n",
        "\n",
        "<http://setosa.io/ev/principal-component-analysis/>"
      ]
    },
    {
      "cell_type": "code",
      "metadata": {
        "id": "TIyQpHtZkKLV",
        "outputId": "f46f6be1-c3db-4d1c-bb41-63b0ec70ad17",
        "colab": {
          "base_uri": "https://localhost:8080/",
          "height": 292
        }
      },
      "source": [
        "import pandas as pd\n",
        "import matplotlib.pyplot as plt\n",
        "\n",
        "x = [-2.2,-2,-2,-1,-1,0,0,1,1,2,2,2.2]\n",
        "y = [0,.5,-.5,.8,-.8,.9,-.9,.8,-.8,.5,-.5,0]\n",
        "\n",
        "print(len(x))\n",
        "print(len(y))\n",
        "\n",
        "data = {\"x\": x, \"y\": y}\n",
        "\n",
        "df = pd.DataFrame(data)\n",
        "\n",
        "axes = plt.gca()\n",
        "plt.axes().set_aspect('equal')\n",
        "plt.scatter(df['x'], df['y'])"
      ],
      "execution_count": null,
      "outputs": [
        {
          "output_type": "stream",
          "text": [
            "12\n",
            "12\n"
          ],
          "name": "stdout"
        },
        {
          "output_type": "stream",
          "text": [
            "/usr/local/lib/python3.6/dist-packages/ipykernel_launcher.py:15: MatplotlibDeprecationWarning: Adding an axes using the same arguments as a previous axes currently reuses the earlier instance.  In a future version, a new instance will always be created and returned.  Meanwhile, this warning can be suppressed, and the future behavior ensured, by passing a unique label to each axes instance.\n",
            "  from ipykernel import kernelapp as app\n"
          ],
          "name": "stderr"
        },
        {
          "output_type": "execute_result",
          "data": {
            "text/plain": [
              "<matplotlib.collections.PathCollection at 0x7f04e1078710>"
            ]
          },
          "metadata": {
            "tags": []
          },
          "execution_count": 34
        },
        {
          "output_type": "display_data",
          "data": {
            "image/png": "[encoded data removed]",
            "text/plain": [
              "<Figure size 432x288 with 1 Axes>"
            ]
          },
          "metadata": {
            "tags": [],
            "needs_background": "light"
          }
        }
      ]
    },
    {
      "cell_type": "markdown",
      "metadata": {
        "id": "atKeYAldByDk"
      },
      "source": [
        "Imagine that the data pictured above is a scatterplot of two explanatory variables. Lets pretend that we could only keep one of them. To remove the one that we don't need, we're going to collapse this data along one of its dimensions. \n",
        "\n",
        "We could choose to project all of these datapoints onto the x-axis or onto the y-axis, which axis should we project the data points onto? Which one preserves more information?"
      ]
    },
    {
      "cell_type": "code",
      "metadata": {
        "id": "pZAoMCOaArYk",
        "outputId": "338abdad-9ce3-4953-e17e-fc6cc1ffc784",
        "colab": {
          "base_uri": "https://localhost:8080/",
          "height": 337
        }
      },
      "source": [
        "import math\n",
        "\n",
        "x1 = [-2.2,-2,-2,-1,-1,0,0,1,1,2,2,2.2]\n",
        "y1 = [0,.5,-.5,.8,-.8,.9,-.9,.8,-.8,.5,-.5,0]\n",
        "\n",
        "data = {\"x\": x1, \"y\": y1}\n",
        "\n",
        "df1 = pd.DataFrame(data)\n",
        "\n",
        "df1[\"x_rotate\"] = df1.apply(lambda x: (x.x+x.y)/math.sqrt(2), axis=1)\n",
        "df1[\"y_rotate\"] = df1.apply(lambda x: (x.y-x.x)/math.sqrt(2), axis=1)\n",
        "\n",
        "axes = plt.gca()\n",
        "plt.axes().set_aspect('equal')\n",
        "plt.scatter(df1['x_rotate'], df1['y_rotate'])"
      ],
      "execution_count": null,
      "outputs": [
        {
          "output_type": "stream",
          "text": [
            "/usr/local/lib/python3.6/dist-packages/ipykernel_launcher.py:14: MatplotlibDeprecationWarning: Adding an axes using the same arguments as a previous axes currently reuses the earlier instance.  In a future version, a new instance will always be created and returned.  Meanwhile, this warning can be suppressed, and the future behavior ensured, by passing a unique label to each axes instance.\n",
            "  \n"
          ],
          "name": "stderr"
        },
        {
          "output_type": "execute_result",
          "data": {
            "text/plain": [
              "<matplotlib.collections.PathCollection at 0x7f04e104e390>"
            ]
          },
          "metadata": {
            "tags": []
          },
          "execution_count": 35
        },
        {
          "output_type": "display_data",
          "data": {
            "image/png": "[encoded data removed]",
            "text/plain": [
              "<Figure size 432x288 with 1 Axes>"
            ]
          },
          "metadata": {
            "tags": [],
            "needs_background": "light"
          }
        }
      ]
    },
    {
      "cell_type": "markdown",
      "metadata": {
        "id": "v_pFspXxFhIq"
      },
      "source": [
        "What if our data didn't lie as cleanly on the x or y axis? How would we then know along what dimension to perform our linear projection?\n",
        "\n",
        "Well, the dimension that cuts nicely through this cloud of points is the dimension that maximizes the variance of points along it. "
      ]
    },
    {
      "cell_type": "code",
      "metadata": {
        "id": "UnBuCSyGC7q3"
      },
      "source": [
        ""
      ],
      "execution_count": null,
      "outputs": []
    },
    {
      "cell_type": "markdown",
      "metadata": {
        "id": "mz5yaQc5GhBe"
      },
      "source": [
        "# The PCA Process:\n",
        "\n",
        "## 1) Separate your data into X and Y, variables.\n",
        "\n",
        "Remember that the y variable is the \"label\" or the \"target\" it's the thing that we want to predict. our X variables are all of the features of our data that are going ot help us to predict Y.\n",
        "\n",
        "## 2) Center each column at 0 by subtracting its mean.\n",
        "\n",
        "Take the matrix of independent variables $X$ and, for each column, subtract the mean of that column from each entry. (This ensures that each column has a mean of zero.)\n",
        "\n",
        "If we don't do this then it will appear as if one component explains most of the variance in the data and the other components explain very little.  \n",
        "\n",
        "## 3) Divide each column by its standard deviation.\n",
        "\n",
        "This completes the process of \"standardizing\" our data - giving it a mean of 0 and a standard deviation of 1. Just like we standardized our variance and covariance, this now makes the variances of our different features comparable and removes some of the concerns that were brought up when we talked about the rotated elipse of points.\n",
        " \n",
        "We'll call the new standardized matrix the $Z$ matrix.\n",
        "\n",
        "## 4) Calculate the Variance-Covariance matrix of Z. \n",
        "\n",
        "Do this by calculating $Z^{T}Z$ Mind blown! - Multiplying a matrix by its transpose yields the variance-covariance matrix. \n",
        "\n",
        "## 5) Calculate the Eigenvectors and Eigenvalues of the Variance-Covariance Matrix.\n",
        "\n",
        "What are the Eigenvectors and Eigenvalues of the Variance-Covariance Matrix? The eigenvectors are those that run along the dimensions that maximize the variance along that dimension. Remember our rotated elipse example? When we moved our elipse off of the x and y axis we then didn't know what line we should project the points onto so that they we could collapse the dimension of least variance. Well now we do!\n",
        "\n",
        "## 6) Sort the Eigenvalue and Eigenvector Pairs.\n",
        "\n",
        "We'll sort our eigenvalue eigenvector pairs that resulted from the eigendecomposition of the variance-covariance matrix. We'll sort them by their eigenvalues in descending order. Since the eigenvalues tell us how to scale an eigenvector. The largest eigenvalue corresponds to the direction of greatest variance in the data. The eigenvalue eigenvector pair with the largest eigenvalue will be Principal Component 1\n",
        "\n",
        "## 7) Use a matrix transformation to project the datapoints onto our eigenvector subspaces. \n",
        "\n",
        "This final step is what makes it so that if we plot our transformed data our principal components will be alined with the axis of our graph. "
      ]
    },
    {
      "cell_type": "code",
      "metadata": {
        "id": "YsA0bJKEM6Su",
        "outputId": "615433f5-160e-4e0a-d045-20a9f28f74a2",
        "colab": {
          "base_uri": "https://localhost:8080/",
          "height": 624
        }
      },
      "source": [
        "from numpy import array\n",
        "from numpy import mean\n",
        "from numpy import std\n",
        "from numpy import cov\n",
        "from numpy.linalg import eig\n",
        "\n",
        "# define a matrix (we'll pretend that we've already separated our X and Y matrices)\n",
        "X = array([[1, 2], [3, 4], [5, 6]])\n",
        "print(\"Data: \", X)\n",
        "# calculate the mean of each column\n",
        "means = mean(X.T, axis=1)\n",
        "print(\"\\n Means: \\n\", means)\n",
        "# center columns by subtracting column means\n",
        "centered_data = X - means\n",
        "print(\"\\n Centered Data: \\n\", centered_data)\n",
        "\n",
        "# calculate the standard deviation of each column\n",
        "std_devs = std(X.T, axis=1)\n",
        "print('\\n Standard Deviations: \\n', std_devs)\n",
        "# complete the standardization by dividing by std_dev\n",
        "standardized_data = centered_data / std_devs\n",
        "print(\"\\n Standardized Data: \\n\", standardized_data)\n",
        "# calculate covariance matrix of our standardized matrix\n",
        "covariance_matrix = cov(standardized_data.T)\n",
        "print(\"\\n Covariance Matrix: \\n\", covariance_matrix)\n",
        "# eigendecomposition of covariance matrix\n",
        "values, vectors = eig(covariance_matrix)\n",
        "print(\"\\n Eigenvectors: \\n\", vectors)\n",
        "print(\"\\n Eigenvalues: \\n\", values)\n",
        "# project data\n",
        "P = vectors.T.dot(standardized_data.T)\n",
        "print(\"\\n Projected Data: \\n\", P.T)"
      ],
      "execution_count": null,
      "outputs": [
        {
          "output_type": "stream",
          "text": [
            "Data:  [[1 2]\n",
            " [3 4]\n",
            " [5 6]]\n",
            "\n",
            " Means: \n",
            " [3. 4.]\n",
            "\n",
            " Centered Data: \n",
            " [[-2. -2.]\n",
            " [ 0.  0.]\n",
            " [ 2.  2.]]\n",
            "\n",
            " Standard Deviations: \n",
            " [1.63299316 1.63299316]\n",
            "\n",
            " Standardized Data: \n",
            " [[-1.22474487 -1.22474487]\n",
            " [ 0.          0.        ]\n",
            " [ 1.22474487  1.22474487]]\n",
            "\n",
            " Covariance Matrix: \n",
            " [[1.5 1.5]\n",
            " [1.5 1.5]]\n",
            "\n",
            " Eigenvectors: \n",
            " [[ 0.70710678 -0.70710678]\n",
            " [ 0.70710678  0.70710678]]\n",
            "\n",
            " Eigenvalues: \n",
            " [3. 0.]\n",
            "\n",
            " Projected Data: \n",
            " [[-1.73205081e+00 -7.75139526e-18]\n",
            " [ 0.00000000e+00  0.00000000e+00]\n",
            " [ 1.73205081e+00  7.75139526e-18]]\n"
          ],
          "name": "stdout"
        }
      ]
    },
    {
      "cell_type": "code",
      "metadata": {
        "id": "V6yHvmJ6Pk65",
        "outputId": "1b7ac6fb-6067-47e1-ad3e-d9fdbcbd7309",
        "colab": {
          "base_uri": "https://localhost:8080/",
          "height": 281
        }
      },
      "source": [
        "x = [1,3,5] \n",
        "y = [2,4,6]\n",
        "data = {\"x\": x, \"y\": y}\n",
        "\n",
        "df = pd.DataFrame(data)\n",
        "\n",
        "plt.scatter(df['x'], df['y'])\n",
        "plt.title(\"Data Before PCA\")\n",
        "plt.show()"
      ],
      "execution_count": null,
      "outputs": [
        {
          "output_type": "display_data",
          "data": {
            "image/png": "[encoded data removed]",
            "text/plain": [
              "<Figure size 432x288 with 1 Axes>"
            ]
          },
          "metadata": {
            "tags": [],
            "needs_background": "light"
          }
        }
      ]
    },
    {
      "cell_type": "code",
      "metadata": {
        "id": "ncjBR4o1QUIB",
        "outputId": "1fe3cf27-f560-4f8f-d6aa-cd738c789c5e",
        "colab": {
          "base_uri": "https://localhost:8080/",
          "height": 295
        }
      },
      "source": [
        "x = [-2.82842712,0,2.82842712] \n",
        "y = [0,0,0]\n",
        "data = {\"x\": x, \"y\": y}\n",
        "\n",
        "df = pd.DataFrame(data)\n",
        "\n",
        "plt.scatter(df['x'], df['y'])\n",
        "plt.title(\"Data After PCA\")\n",
        "plt.xlabel('PC1')\n",
        "plt.show()"
      ],
      "execution_count": null,
      "outputs": [
        {
          "output_type": "display_data",
          "data": {
            "image/png": "[encoded data removed]",
            "text/plain": [
              "<Figure size 432x288 with 1 Axes>"
            ]
          },
          "metadata": {
            "tags": [],
            "needs_background": "light"
          }
        }
      ]
    },
    {
      "cell_type": "markdown",
      "metadata": {
        "id": "FBNMa7qLOzW0"
      },
      "source": [
        "# Lets use a library to prove to ourselves how smart we are"
      ]
    },
    {
      "cell_type": "code",
      "metadata": {
        "id": "TsR_xy2YOI-S",
        "outputId": "8d2cbb65-bb2f-4163-8e0c-221378208b7e",
        "colab": {
          "base_uri": "https://localhost:8080/",
          "height": 364
        }
      },
      "source": [
        "# Principal Component Analysis\n",
        "from numpy import array\n",
        "from sklearn.preprocessing import StandardScaler\n",
        "from sklearn.decomposition import PCA\n",
        "# define a matrix\n",
        "X = array([[1, 2], [3, 4], [5, 6]])\n",
        "print(\"Data: \\n\", X)\n",
        "# Standardize the Data\n",
        "# Instantiate a Standard Scaler object\n",
        "scaler = StandardScaler()\n",
        "# Use the object to fit_transform our data\n",
        "Z = scaler.fit_transform(X)\n",
        "print(\"\\n Standardized Data: \\n\", Z)\n",
        "# create the PCA instance\n",
        "# Number of principal components I want outputed \n",
        "pca = PCA(1)\n",
        "# fit on data\n",
        "pca.fit(Z)\n",
        "# access values and vectors\n",
        "print(\"\\n Eigenvectors: \\n\", pca.components_)\n",
        "print(\"\\n Eigenvalues: \\n\",pca.explained_variance_)\n",
        "# transform data\n",
        "B = pca.transform(Z)\n",
        "print(\"\\n Projected Data: \\n\", B)"
      ],
      "execution_count": null,
      "outputs": [
        {
          "output_type": "stream",
          "text": [
            "Data: \n",
            " [[1 2]\n",
            " [3 4]\n",
            " [5 6]]\n",
            "\n",
            " Standardized Data: \n",
            " [[-1.22474487 -1.22474487]\n",
            " [ 0.          0.        ]\n",
            " [ 1.22474487  1.22474487]]\n",
            "\n",
            " Eigenvectors: \n",
            " [[0.70710678 0.70710678]]\n",
            "\n",
            " Eigenvalues: \n",
            " [3.]\n",
            "\n",
            " Projected Data: \n",
            " [[-1.73205081]\n",
            " [ 0.        ]\n",
            " [ 1.73205081]]\n"
          ],
          "name": "stdout"
        }
      ]
    },
    {
      "cell_type": "code",
      "metadata": {
        "id": "uK12n9sFPG4g"
      },
      "source": [
        ""
      ],
      "execution_count": null,
      "outputs": []
    }
  ]
}